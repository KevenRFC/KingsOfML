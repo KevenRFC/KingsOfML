{
 "cells": [
  {
   "cell_type": "markdown",
   "metadata": {},
   "source": [
    "Link: https://datahack.analyticsvidhya.com/contest/kings-of-machine-learning/"
   ]
  },
  {
   "cell_type": "markdown",
   "metadata": {},
   "source": [
    "# 1. Carga de Datos"
   ]
  },
  {
   "cell_type": "markdown",
   "metadata": {},
   "source": [
    "## 1.1 Carga"
   ]
  },
  {
   "cell_type": "code",
   "execution_count": 465,
   "metadata": {
    "collapsed": true
   },
   "outputs": [],
   "source": [
    "import pandas as pd\n",
    "import numpy as np\n",
    "from scipy.stats.mstats import mode, gmean, hmean\n",
    "\n",
    "import warnings\n",
    "warnings.filterwarnings(\"ignore\")"
   ]
  },
  {
   "cell_type": "code",
   "execution_count": 466,
   "metadata": {
    "collapsed": true
   },
   "outputs": [],
   "source": [
    "pd.options.display.max_columns = 100\n",
    "\n",
    "%matplotlib inline\n",
    "from matplotlib import pyplot as plt\n",
    "import matplotlib\n",
    "matplotlib.style.use('ggplot')"
   ]
  },
  {
   "cell_type": "code",
   "execution_count": 467,
   "metadata": {
    "collapsed": true
   },
   "outputs": [],
   "source": [
    "from scipy.stats.mstats import mode, gmean, hmean\n",
    "def rmse(act, pred ):\n",
    "    return np.sqrt(np.mean(np.power(pred-act, 2)))"
   ]
  },
  {
   "cell_type": "code",
   "execution_count": 468,
   "metadata": {
    "scrolled": true
   },
   "outputs": [
    {
     "data": {
      "text/html": [
       "<div>\n",
       "<style>\n",
       "    .dataframe thead tr:only-child th {\n",
       "        text-align: right;\n",
       "    }\n",
       "\n",
       "    .dataframe thead th {\n",
       "        text-align: left;\n",
       "    }\n",
       "\n",
       "    .dataframe tbody tr th {\n",
       "        vertical-align: top;\n",
       "    }\n",
       "</style>\n",
       "<table border=\"1\" class=\"dataframe\">\n",
       "  <thead>\n",
       "    <tr style=\"text-align: right;\">\n",
       "      <th></th>\n",
       "      <th>user_id</th>\n",
       "      <th>hero_id</th>\n",
       "      <th>id</th>\n",
       "      <th>num_games</th>\n",
       "      <th>num_wins</th>\n",
       "      <th>kda_ratio</th>\n",
       "    </tr>\n",
       "  </thead>\n",
       "  <tbody>\n",
       "    <tr>\n",
       "      <th>0</th>\n",
       "      <td>1</td>\n",
       "      <td>41</td>\n",
       "      <td>1_41</td>\n",
       "      <td>201</td>\n",
       "      <td>125</td>\n",
       "      <td>3731.707317</td>\n",
       "    </tr>\n",
       "    <tr>\n",
       "      <th>1</th>\n",
       "      <td>2</td>\n",
       "      <td>17</td>\n",
       "      <td>2_17</td>\n",
       "      <td>427</td>\n",
       "      <td>234</td>\n",
       "      <td>2922.058381</td>\n",
       "    </tr>\n",
       "    <tr>\n",
       "      <th>2</th>\n",
       "      <td>5</td>\n",
       "      <td>106</td>\n",
       "      <td>5_106</td>\n",
       "      <td>240</td>\n",
       "      <td>130</td>\n",
       "      <td>5116.682739</td>\n",
       "    </tr>\n",
       "    <tr>\n",
       "      <th>3</th>\n",
       "      <td>6</td>\n",
       "      <td>65</td>\n",
       "      <td>6_65</td>\n",
       "      <td>206</td>\n",
       "      <td>122</td>\n",
       "      <td>4131.553861</td>\n",
       "    </tr>\n",
       "    <tr>\n",
       "      <th>4</th>\n",
       "      <td>7</td>\n",
       "      <td>69</td>\n",
       "      <td>7_69</td>\n",
       "      <td>697</td>\n",
       "      <td>382</td>\n",
       "      <td>2474.469306</td>\n",
       "    </tr>\n",
       "  </tbody>\n",
       "</table>\n",
       "</div>"
      ],
      "text/plain": [
       "   user_id  hero_id     id  num_games  num_wins    kda_ratio\n",
       "0        1       41   1_41        201       125  3731.707317\n",
       "1        2       17   2_17        427       234  2922.058381\n",
       "2        5      106  5_106        240       130  5116.682739\n",
       "3        6       65   6_65        206       122  4131.553861\n",
       "4        7       69   7_69        697       382  2474.469306"
      ]
     },
     "execution_count": 468,
     "metadata": {},
     "output_type": "execute_result"
    }
   ],
   "source": [
    "train1 = pd.read_csv(\"data/train1.csv\")\n",
    "train9 = pd.read_csv(\"data/train9.csv\")\n",
    "hero_data = pd.read_csv(\"data/hero_data.csv\")\n",
    "TARGET = 'kda_ratio'\n",
    "train1.head()"
   ]
  },
  {
   "cell_type": "code",
   "execution_count": 469,
   "metadata": {
    "scrolled": true
   },
   "outputs": [
    {
     "data": {
      "text/html": [
       "<div>\n",
       "<style>\n",
       "    .dataframe thead tr:only-child th {\n",
       "        text-align: right;\n",
       "    }\n",
       "\n",
       "    .dataframe thead th {\n",
       "        text-align: left;\n",
       "    }\n",
       "\n",
       "    .dataframe tbody tr th {\n",
       "        vertical-align: top;\n",
       "    }\n",
       "</style>\n",
       "<table border=\"1\" class=\"dataframe\">\n",
       "  <thead>\n",
       "    <tr style=\"text-align: right;\">\n",
       "      <th></th>\n",
       "      <th>user_id</th>\n",
       "      <th>hero_id</th>\n",
       "      <th>id</th>\n",
       "      <th>num_games</th>\n",
       "    </tr>\n",
       "  </thead>\n",
       "  <tbody>\n",
       "    <tr>\n",
       "      <th>0</th>\n",
       "      <td>3</td>\n",
       "      <td>53</td>\n",
       "      <td>3_53</td>\n",
       "      <td>278</td>\n",
       "    </tr>\n",
       "    <tr>\n",
       "      <th>1</th>\n",
       "      <td>4</td>\n",
       "      <td>17</td>\n",
       "      <td>4_17</td>\n",
       "      <td>180</td>\n",
       "    </tr>\n",
       "    <tr>\n",
       "      <th>2</th>\n",
       "      <td>9</td>\n",
       "      <td>51</td>\n",
       "      <td>9_51</td>\n",
       "      <td>70</td>\n",
       "    </tr>\n",
       "    <tr>\n",
       "      <th>3</th>\n",
       "      <td>10</td>\n",
       "      <td>54</td>\n",
       "      <td>10_54</td>\n",
       "      <td>189</td>\n",
       "    </tr>\n",
       "    <tr>\n",
       "      <th>4</th>\n",
       "      <td>15</td>\n",
       "      <td>74</td>\n",
       "      <td>15_74</td>\n",
       "      <td>263</td>\n",
       "    </tr>\n",
       "  </tbody>\n",
       "</table>\n",
       "</div>"
      ],
      "text/plain": [
       "   user_id  hero_id     id  num_games\n",
       "0        3       53   3_53        278\n",
       "1        4       17   4_17        180\n",
       "2        9       51   9_51         70\n",
       "3       10       54  10_54        189\n",
       "4       15       74  15_74        263"
      ]
     },
     "execution_count": 469,
     "metadata": {},
     "output_type": "execute_result"
    }
   ],
   "source": [
    "test1 = pd.read_csv(\"data/test1.csv\")\n",
    "test9 = pd.read_csv(\"data/test9.csv\")\n",
    "TARGET = 'kda_ratio'\n",
    "test1.head()"
   ]
  },
  {
   "cell_type": "code",
   "execution_count": 470,
   "metadata": {},
   "outputs": [
    {
     "data": {
      "text/html": [
       "<div>\n",
       "<style>\n",
       "    .dataframe thead tr:only-child th {\n",
       "        text-align: right;\n",
       "    }\n",
       "\n",
       "    .dataframe thead th {\n",
       "        text-align: left;\n",
       "    }\n",
       "\n",
       "    .dataframe tbody tr th {\n",
       "        vertical-align: top;\n",
       "    }\n",
       "</style>\n",
       "<table border=\"1\" class=\"dataframe\">\n",
       "  <thead>\n",
       "    <tr style=\"text-align: right;\">\n",
       "      <th></th>\n",
       "      <th>user_id</th>\n",
       "      <th>hero_id</th>\n",
       "      <th>id</th>\n",
       "      <th>num_games</th>\n",
       "      <th>num_wins</th>\n",
       "      <th>kda_ratio</th>\n",
       "    </tr>\n",
       "  </thead>\n",
       "  <tbody>\n",
       "    <tr>\n",
       "      <th>0</th>\n",
       "      <td>3</td>\n",
       "      <td>65</td>\n",
       "      <td>3_65</td>\n",
       "      <td>330</td>\n",
       "      <td>183</td>\n",
       "      <td>3418.470419</td>\n",
       "    </tr>\n",
       "    <tr>\n",
       "      <th>1</th>\n",
       "      <td>3</td>\n",
       "      <td>104</td>\n",
       "      <td>3_104</td>\n",
       "      <td>231</td>\n",
       "      <td>107</td>\n",
       "      <td>2522.639069</td>\n",
       "    </tr>\n",
       "    <tr>\n",
       "      <th>2</th>\n",
       "      <td>3</td>\n",
       "      <td>7</td>\n",
       "      <td>3_7</td>\n",
       "      <td>200</td>\n",
       "      <td>103</td>\n",
       "      <td>2793.255132</td>\n",
       "    </tr>\n",
       "    <tr>\n",
       "      <th>3</th>\n",
       "      <td>3</td>\n",
       "      <td>19</td>\n",
       "      <td>3_19</td>\n",
       "      <td>189</td>\n",
       "      <td>91</td>\n",
       "      <td>3493.495230</td>\n",
       "    </tr>\n",
       "    <tr>\n",
       "      <th>4</th>\n",
       "      <td>3</td>\n",
       "      <td>4</td>\n",
       "      <td>3_4</td>\n",
       "      <td>182</td>\n",
       "      <td>102</td>\n",
       "      <td>3586.402266</td>\n",
       "    </tr>\n",
       "  </tbody>\n",
       "</table>\n",
       "</div>"
      ],
      "text/plain": [
       "   user_id  hero_id     id  num_games  num_wins    kda_ratio\n",
       "0        3       65   3_65        330       183  3418.470419\n",
       "1        3      104  3_104        231       107  2522.639069\n",
       "2        3        7    3_7        200       103  2793.255132\n",
       "3        3       19   3_19        189        91  3493.495230\n",
       "4        3        4    3_4        182       102  3586.402266"
      ]
     },
     "execution_count": 470,
     "metadata": {},
     "output_type": "execute_result"
    }
   ],
   "source": [
    "test9.head()"
   ]
  },
  {
   "cell_type": "code",
   "execution_count": 471,
   "metadata": {},
   "outputs": [
    {
     "name": "stdout",
     "output_type": "stream",
     "text": [
      "(2094, 6)   (18846, 6)\n",
      "(8082, 6)   (8082, 6)\n"
     ]
    }
   ],
   "source": [
    "print(train1.shape, \" \", train9.shape )\n",
    "print(test9.shape, \" \", test9.shape )"
   ]
  },
  {
   "cell_type": "code",
   "execution_count": 472,
   "metadata": {},
   "outputs": [
    {
     "data": {
      "text/html": [
       "<div>\n",
       "<style>\n",
       "    .dataframe thead tr:only-child th {\n",
       "        text-align: right;\n",
       "    }\n",
       "\n",
       "    .dataframe thead th {\n",
       "        text-align: left;\n",
       "    }\n",
       "\n",
       "    .dataframe tbody tr th {\n",
       "        vertical-align: top;\n",
       "    }\n",
       "</style>\n",
       "<table border=\"1\" class=\"dataframe\">\n",
       "  <thead>\n",
       "    <tr style=\"text-align: right;\">\n",
       "      <th></th>\n",
       "      <th>hero_id</th>\n",
       "      <th>primary_attr</th>\n",
       "      <th>attack_type</th>\n",
       "      <th>roles</th>\n",
       "      <th>base_health</th>\n",
       "      <th>base_health_regen</th>\n",
       "      <th>base_mana</th>\n",
       "      <th>base_mana_regen</th>\n",
       "      <th>base_armor</th>\n",
       "      <th>base_magic_resistance</th>\n",
       "      <th>base_attack_min</th>\n",
       "      <th>base_attack_max</th>\n",
       "      <th>base_strength</th>\n",
       "      <th>base_agility</th>\n",
       "      <th>base_intelligence</th>\n",
       "      <th>strength_gain</th>\n",
       "      <th>agility_gain</th>\n",
       "      <th>intelligence_gain</th>\n",
       "      <th>attack_range</th>\n",
       "      <th>projectile_speed</th>\n",
       "      <th>attack_rate</th>\n",
       "      <th>move_speed</th>\n",
       "      <th>turn_rate</th>\n",
       "    </tr>\n",
       "  </thead>\n",
       "  <tbody>\n",
       "    <tr>\n",
       "      <th>0</th>\n",
       "      <td>1</td>\n",
       "      <td>agi</td>\n",
       "      <td>Melee</td>\n",
       "      <td>Carry:Escape:Nuker</td>\n",
       "      <td>200</td>\n",
       "      <td>1.50</td>\n",
       "      <td>75</td>\n",
       "      <td>0.9</td>\n",
       "      <td>-1.0</td>\n",
       "      <td>25</td>\n",
       "      <td>27</td>\n",
       "      <td>31</td>\n",
       "      <td>22</td>\n",
       "      <td>22</td>\n",
       "      <td>12</td>\n",
       "      <td>1.3</td>\n",
       "      <td>2.8</td>\n",
       "      <td>1.8</td>\n",
       "      <td>150</td>\n",
       "      <td>0</td>\n",
       "      <td>1.45</td>\n",
       "      <td>310</td>\n",
       "      <td>0.5</td>\n",
       "    </tr>\n",
       "    <tr>\n",
       "      <th>1</th>\n",
       "      <td>2</td>\n",
       "      <td>str</td>\n",
       "      <td>Melee</td>\n",
       "      <td>Initiator:Durable:Disabler:Jungler</td>\n",
       "      <td>200</td>\n",
       "      <td>4.25</td>\n",
       "      <td>75</td>\n",
       "      <td>0.9</td>\n",
       "      <td>-1.0</td>\n",
       "      <td>25</td>\n",
       "      <td>24</td>\n",
       "      <td>28</td>\n",
       "      <td>25</td>\n",
       "      <td>20</td>\n",
       "      <td>18</td>\n",
       "      <td>2.8</td>\n",
       "      <td>2.2</td>\n",
       "      <td>1.6</td>\n",
       "      <td>150</td>\n",
       "      <td>900</td>\n",
       "      <td>1.70</td>\n",
       "      <td>290</td>\n",
       "      <td>0.6</td>\n",
       "    </tr>\n",
       "    <tr>\n",
       "      <th>2</th>\n",
       "      <td>3</td>\n",
       "      <td>int</td>\n",
       "      <td>Ranged</td>\n",
       "      <td>Support:Disabler:Nuker:Durable</td>\n",
       "      <td>200</td>\n",
       "      <td>1.50</td>\n",
       "      <td>75</td>\n",
       "      <td>0.9</td>\n",
       "      <td>1.0</td>\n",
       "      <td>25</td>\n",
       "      <td>37</td>\n",
       "      <td>43</td>\n",
       "      <td>23</td>\n",
       "      <td>23</td>\n",
       "      <td>23</td>\n",
       "      <td>2.4</td>\n",
       "      <td>2.4</td>\n",
       "      <td>2.4</td>\n",
       "      <td>400</td>\n",
       "      <td>900</td>\n",
       "      <td>1.70</td>\n",
       "      <td>310</td>\n",
       "      <td>0.6</td>\n",
       "    </tr>\n",
       "    <tr>\n",
       "      <th>3</th>\n",
       "      <td>4</td>\n",
       "      <td>agi</td>\n",
       "      <td>Melee</td>\n",
       "      <td>Carry:Disabler:Jungler:Nuker:Initiator</td>\n",
       "      <td>200</td>\n",
       "      <td>1.50</td>\n",
       "      <td>75</td>\n",
       "      <td>0.9</td>\n",
       "      <td>0.0</td>\n",
       "      <td>25</td>\n",
       "      <td>33</td>\n",
       "      <td>39</td>\n",
       "      <td>23</td>\n",
       "      <td>24</td>\n",
       "      <td>18</td>\n",
       "      <td>2.7</td>\n",
       "      <td>3.0</td>\n",
       "      <td>1.7</td>\n",
       "      <td>150</td>\n",
       "      <td>900</td>\n",
       "      <td>1.70</td>\n",
       "      <td>285</td>\n",
       "      <td>0.5</td>\n",
       "    </tr>\n",
       "    <tr>\n",
       "      <th>4</th>\n",
       "      <td>5</td>\n",
       "      <td>int</td>\n",
       "      <td>Ranged</td>\n",
       "      <td>Support:Disabler:Nuker:Jungler</td>\n",
       "      <td>200</td>\n",
       "      <td>1.50</td>\n",
       "      <td>75</td>\n",
       "      <td>0.9</td>\n",
       "      <td>-1.0</td>\n",
       "      <td>25</td>\n",
       "      <td>19</td>\n",
       "      <td>25</td>\n",
       "      <td>16</td>\n",
       "      <td>16</td>\n",
       "      <td>16</td>\n",
       "      <td>2.0</td>\n",
       "      <td>1.6</td>\n",
       "      <td>2.9</td>\n",
       "      <td>600</td>\n",
       "      <td>900</td>\n",
       "      <td>1.70</td>\n",
       "      <td>275</td>\n",
       "      <td>0.5</td>\n",
       "    </tr>\n",
       "  </tbody>\n",
       "</table>\n",
       "</div>"
      ],
      "text/plain": [
       "   hero_id primary_attr attack_type                                   roles  \\\n",
       "0        1          agi       Melee                      Carry:Escape:Nuker   \n",
       "1        2          str       Melee      Initiator:Durable:Disabler:Jungler   \n",
       "2        3          int      Ranged          Support:Disabler:Nuker:Durable   \n",
       "3        4          agi       Melee  Carry:Disabler:Jungler:Nuker:Initiator   \n",
       "4        5          int      Ranged          Support:Disabler:Nuker:Jungler   \n",
       "\n",
       "   base_health  base_health_regen  base_mana  base_mana_regen  base_armor  \\\n",
       "0          200               1.50         75              0.9        -1.0   \n",
       "1          200               4.25         75              0.9        -1.0   \n",
       "2          200               1.50         75              0.9         1.0   \n",
       "3          200               1.50         75              0.9         0.0   \n",
       "4          200               1.50         75              0.9        -1.0   \n",
       "\n",
       "   base_magic_resistance  base_attack_min  base_attack_max  base_strength  \\\n",
       "0                     25               27               31             22   \n",
       "1                     25               24               28             25   \n",
       "2                     25               37               43             23   \n",
       "3                     25               33               39             23   \n",
       "4                     25               19               25             16   \n",
       "\n",
       "   base_agility  base_intelligence  strength_gain  agility_gain  \\\n",
       "0            22                 12            1.3           2.8   \n",
       "1            20                 18            2.8           2.2   \n",
       "2            23                 23            2.4           2.4   \n",
       "3            24                 18            2.7           3.0   \n",
       "4            16                 16            2.0           1.6   \n",
       "\n",
       "   intelligence_gain  attack_range  projectile_speed  attack_rate  move_speed  \\\n",
       "0                1.8           150                 0         1.45         310   \n",
       "1                1.6           150               900         1.70         290   \n",
       "2                2.4           400               900         1.70         310   \n",
       "3                1.7           150               900         1.70         285   \n",
       "4                2.9           600               900         1.70         275   \n",
       "\n",
       "   turn_rate  \n",
       "0        0.5  \n",
       "1        0.6  \n",
       "2        0.6  \n",
       "3        0.5  \n",
       "4        0.5  "
      ]
     },
     "execution_count": 472,
     "metadata": {},
     "output_type": "execute_result"
    }
   ],
   "source": [
    "hero_data.head()"
   ]
  },
  {
   "cell_type": "code",
   "execution_count": null,
   "metadata": {
    "collapsed": true
   },
   "outputs": [],
   "source": []
  },
  {
   "cell_type": "code",
   "execution_count": 473,
   "metadata": {},
   "outputs": [
    {
     "data": {
      "text/html": [
       "<div>\n",
       "<style>\n",
       "    .dataframe thead tr:only-child th {\n",
       "        text-align: right;\n",
       "    }\n",
       "\n",
       "    .dataframe thead th {\n",
       "        text-align: left;\n",
       "    }\n",
       "\n",
       "    .dataframe tbody tr th {\n",
       "        vertical-align: top;\n",
       "    }\n",
       "</style>\n",
       "<table border=\"1\" class=\"dataframe\">\n",
       "  <thead>\n",
       "    <tr style=\"text-align: right;\">\n",
       "      <th></th>\n",
       "      <th>user_id</th>\n",
       "      <th>hero_id</th>\n",
       "      <th>id</th>\n",
       "      <th>num_games</th>\n",
       "      <th>num_wins</th>\n",
       "      <th>kda_ratio</th>\n",
       "      <th>group</th>\n",
       "    </tr>\n",
       "  </thead>\n",
       "  <tbody>\n",
       "    <tr>\n",
       "      <th>0</th>\n",
       "      <td>1</td>\n",
       "      <td>41</td>\n",
       "      <td>1_41</td>\n",
       "      <td>201</td>\n",
       "      <td>125</td>\n",
       "      <td>3731.707317</td>\n",
       "      <td>g1</td>\n",
       "    </tr>\n",
       "    <tr>\n",
       "      <th>1</th>\n",
       "      <td>2</td>\n",
       "      <td>17</td>\n",
       "      <td>2_17</td>\n",
       "      <td>427</td>\n",
       "      <td>234</td>\n",
       "      <td>2922.058381</td>\n",
       "      <td>g1</td>\n",
       "    </tr>\n",
       "    <tr>\n",
       "      <th>2</th>\n",
       "      <td>5</td>\n",
       "      <td>106</td>\n",
       "      <td>5_106</td>\n",
       "      <td>240</td>\n",
       "      <td>130</td>\n",
       "      <td>5116.682739</td>\n",
       "      <td>g1</td>\n",
       "    </tr>\n",
       "    <tr>\n",
       "      <th>3</th>\n",
       "      <td>6</td>\n",
       "      <td>65</td>\n",
       "      <td>6_65</td>\n",
       "      <td>206</td>\n",
       "      <td>122</td>\n",
       "      <td>4131.553861</td>\n",
       "      <td>g1</td>\n",
       "    </tr>\n",
       "    <tr>\n",
       "      <th>4</th>\n",
       "      <td>7</td>\n",
       "      <td>69</td>\n",
       "      <td>7_69</td>\n",
       "      <td>697</td>\n",
       "      <td>382</td>\n",
       "      <td>2474.469306</td>\n",
       "      <td>g1</td>\n",
       "    </tr>\n",
       "  </tbody>\n",
       "</table>\n",
       "</div>"
      ],
      "text/plain": [
       "   user_id  hero_id     id  num_games  num_wins    kda_ratio group\n",
       "0        1       41   1_41        201       125  3731.707317    g1\n",
       "1        2       17   2_17        427       234  2922.058381    g1\n",
       "2        5      106  5_106        240       130  5116.682739    g1\n",
       "3        6       65   6_65        206       122  4131.553861    g1\n",
       "4        7       69   7_69        697       382  2474.469306    g1"
      ]
     },
     "execution_count": 473,
     "metadata": {},
     "output_type": "execute_result"
    }
   ],
   "source": [
    "train9_tmp = train9.copy()\n",
    "train9_tmp[\"group\"] = \"g9\"\n",
    "train1_tmp = train1.copy()\n",
    "train1_tmp[\"group\"] = \"g1\"\n",
    "train = pd.concat([train1_tmp,train9_tmp],axis=0)\n",
    "train.head()"
   ]
  },
  {
   "cell_type": "code",
   "execution_count": 474,
   "metadata": {},
   "outputs": [
    {
     "data": {
      "text/html": [
       "<div>\n",
       "<style>\n",
       "    .dataframe thead tr:only-child th {\n",
       "        text-align: right;\n",
       "    }\n",
       "\n",
       "    .dataframe thead th {\n",
       "        text-align: left;\n",
       "    }\n",
       "\n",
       "    .dataframe tbody tr th {\n",
       "        vertical-align: top;\n",
       "    }\n",
       "</style>\n",
       "<table border=\"1\" class=\"dataframe\">\n",
       "  <thead>\n",
       "    <tr style=\"text-align: right;\">\n",
       "      <th></th>\n",
       "      <th>group</th>\n",
       "      <th>hero_id</th>\n",
       "      <th>id</th>\n",
       "      <th>kda_ratio</th>\n",
       "      <th>num_games</th>\n",
       "      <th>num_wins</th>\n",
       "      <th>user_id</th>\n",
       "    </tr>\n",
       "  </thead>\n",
       "  <tbody>\n",
       "    <tr>\n",
       "      <th>0</th>\n",
       "      <td>g1</td>\n",
       "      <td>53</td>\n",
       "      <td>3_53</td>\n",
       "      <td>NaN</td>\n",
       "      <td>278</td>\n",
       "      <td>NaN</td>\n",
       "      <td>3</td>\n",
       "    </tr>\n",
       "    <tr>\n",
       "      <th>1</th>\n",
       "      <td>g1</td>\n",
       "      <td>17</td>\n",
       "      <td>4_17</td>\n",
       "      <td>NaN</td>\n",
       "      <td>180</td>\n",
       "      <td>NaN</td>\n",
       "      <td>4</td>\n",
       "    </tr>\n",
       "    <tr>\n",
       "      <th>2</th>\n",
       "      <td>g1</td>\n",
       "      <td>51</td>\n",
       "      <td>9_51</td>\n",
       "      <td>NaN</td>\n",
       "      <td>70</td>\n",
       "      <td>NaN</td>\n",
       "      <td>9</td>\n",
       "    </tr>\n",
       "    <tr>\n",
       "      <th>3</th>\n",
       "      <td>g1</td>\n",
       "      <td>54</td>\n",
       "      <td>10_54</td>\n",
       "      <td>NaN</td>\n",
       "      <td>189</td>\n",
       "      <td>NaN</td>\n",
       "      <td>10</td>\n",
       "    </tr>\n",
       "    <tr>\n",
       "      <th>4</th>\n",
       "      <td>g1</td>\n",
       "      <td>74</td>\n",
       "      <td>15_74</td>\n",
       "      <td>NaN</td>\n",
       "      <td>263</td>\n",
       "      <td>NaN</td>\n",
       "      <td>15</td>\n",
       "    </tr>\n",
       "  </tbody>\n",
       "</table>\n",
       "</div>"
      ],
      "text/plain": [
       "  group  hero_id     id  kda_ratio  num_games  num_wins  user_id\n",
       "0    g1       53   3_53        NaN        278       NaN        3\n",
       "1    g1       17   4_17        NaN        180       NaN        4\n",
       "2    g1       51   9_51        NaN         70       NaN        9\n",
       "3    g1       54  10_54        NaN        189       NaN       10\n",
       "4    g1       74  15_74        NaN        263       NaN       15"
      ]
     },
     "execution_count": 474,
     "metadata": {},
     "output_type": "execute_result"
    }
   ],
   "source": [
    "test9_tmp = test9.copy()\n",
    "test9_tmp[\"group\"] = \"g9\"\n",
    "test1_tmp = test1.copy()\n",
    "test1_tmp[\"group\"] = \"g1\"\n",
    "test = pd.concat([test1_tmp,test9_tmp],axis=0)\n",
    "test.head()"
   ]
  },
  {
   "cell_type": "code",
   "execution_count": null,
   "metadata": {
    "collapsed": true
   },
   "outputs": [],
   "source": []
  },
  {
   "cell_type": "code",
   "execution_count": 477,
   "metadata": {},
   "outputs": [
    {
     "data": {
      "text/html": [
       "<div>\n",
       "<style>\n",
       "    .dataframe thead tr:only-child th {\n",
       "        text-align: right;\n",
       "    }\n",
       "\n",
       "    .dataframe thead th {\n",
       "        text-align: left;\n",
       "    }\n",
       "\n",
       "    .dataframe tbody tr th {\n",
       "        vertical-align: top;\n",
       "    }\n",
       "</style>\n",
       "<table border=\"1\" class=\"dataframe\">\n",
       "  <thead>\n",
       "    <tr style=\"text-align: right;\">\n",
       "      <th></th>\n",
       "      <th>user_id</th>\n",
       "      <th>hero_id</th>\n",
       "      <th>id</th>\n",
       "      <th>num_games</th>\n",
       "      <th>num_wins</th>\n",
       "      <th>kda_ratio</th>\n",
       "      <th>group</th>\n",
       "      <th>heroe_order</th>\n",
       "      <th>heroe_order</th>\n",
       "    </tr>\n",
       "  </thead>\n",
       "  <tbody>\n",
       "    <tr>\n",
       "      <th>20920</th>\n",
       "      <td>2991</td>\n",
       "      <td>9</td>\n",
       "      <td>2991_9</td>\n",
       "      <td>198</td>\n",
       "      <td>101</td>\n",
       "      <td>4241.992883</td>\n",
       "      <td>g9</td>\n",
       "      <td>1</td>\n",
       "      <td>1</td>\n",
       "    </tr>\n",
       "    <tr>\n",
       "      <th>20921</th>\n",
       "      <td>2991</td>\n",
       "      <td>106</td>\n",
       "      <td>2991_106</td>\n",
       "      <td>197</td>\n",
       "      <td>108</td>\n",
       "      <td>4959.857270</td>\n",
       "      <td>g9</td>\n",
       "      <td>2</td>\n",
       "      <td>2</td>\n",
       "    </tr>\n",
       "    <tr>\n",
       "      <th>20922</th>\n",
       "      <td>2991</td>\n",
       "      <td>74</td>\n",
       "      <td>2991_74</td>\n",
       "      <td>191</td>\n",
       "      <td>98</td>\n",
       "      <td>4150.309461</td>\n",
       "      <td>g9</td>\n",
       "      <td>3</td>\n",
       "      <td>3</td>\n",
       "    </tr>\n",
       "    <tr>\n",
       "      <th>20923</th>\n",
       "      <td>2991</td>\n",
       "      <td>14</td>\n",
       "      <td>2991_14</td>\n",
       "      <td>182</td>\n",
       "      <td>89</td>\n",
       "      <td>2745.315162</td>\n",
       "      <td>g9</td>\n",
       "      <td>4</td>\n",
       "      <td>4</td>\n",
       "    </tr>\n",
       "    <tr>\n",
       "      <th>20924</th>\n",
       "      <td>2991</td>\n",
       "      <td>31</td>\n",
       "      <td>2991_31</td>\n",
       "      <td>172</td>\n",
       "      <td>100</td>\n",
       "      <td>3430.332922</td>\n",
       "      <td>g9</td>\n",
       "      <td>5</td>\n",
       "      <td>5</td>\n",
       "    </tr>\n",
       "    <tr>\n",
       "      <th>20925</th>\n",
       "      <td>2991</td>\n",
       "      <td>33</td>\n",
       "      <td>2991_33</td>\n",
       "      <td>171</td>\n",
       "      <td>118</td>\n",
       "      <td>3933.422104</td>\n",
       "      <td>g1</td>\n",
       "      <td>6</td>\n",
       "      <td>6</td>\n",
       "    </tr>\n",
       "    <tr>\n",
       "      <th>20926</th>\n",
       "      <td>2991</td>\n",
       "      <td>51</td>\n",
       "      <td>2991_51</td>\n",
       "      <td>151</td>\n",
       "      <td>82</td>\n",
       "      <td>3596.280087</td>\n",
       "      <td>g9</td>\n",
       "      <td>7</td>\n",
       "      <td>7</td>\n",
       "    </tr>\n",
       "    <tr>\n",
       "      <th>20927</th>\n",
       "      <td>2991</td>\n",
       "      <td>75</td>\n",
       "      <td>2991_75</td>\n",
       "      <td>146</td>\n",
       "      <td>82</td>\n",
       "      <td>3669.712794</td>\n",
       "      <td>g9</td>\n",
       "      <td>8</td>\n",
       "      <td>8</td>\n",
       "    </tr>\n",
       "    <tr>\n",
       "      <th>20928</th>\n",
       "      <td>2991</td>\n",
       "      <td>69</td>\n",
       "      <td>2991_69</td>\n",
       "      <td>136</td>\n",
       "      <td>69</td>\n",
       "      <td>3596.651446</td>\n",
       "      <td>g9</td>\n",
       "      <td>9</td>\n",
       "      <td>9</td>\n",
       "    </tr>\n",
       "    <tr>\n",
       "      <th>20929</th>\n",
       "      <td>2991</td>\n",
       "      <td>93</td>\n",
       "      <td>2991_93</td>\n",
       "      <td>133</td>\n",
       "      <td>73</td>\n",
       "      <td>4164.965986</td>\n",
       "      <td>g9</td>\n",
       "      <td>10</td>\n",
       "      <td>10</td>\n",
       "    </tr>\n",
       "    <tr>\n",
       "      <th>20930</th>\n",
       "      <td>2992</td>\n",
       "      <td>76</td>\n",
       "      <td>2992_76</td>\n",
       "      <td>290</td>\n",
       "      <td>211</td>\n",
       "      <td>5471.003135</td>\n",
       "      <td>g9</td>\n",
       "      <td>1</td>\n",
       "      <td>1</td>\n",
       "    </tr>\n",
       "    <tr>\n",
       "      <th>20931</th>\n",
       "      <td>2992</td>\n",
       "      <td>14</td>\n",
       "      <td>2992_14</td>\n",
       "      <td>162</td>\n",
       "      <td>91</td>\n",
       "      <td>3193.750000</td>\n",
       "      <td>g9</td>\n",
       "      <td>2</td>\n",
       "      <td>2</td>\n",
       "    </tr>\n",
       "    <tr>\n",
       "      <th>20932</th>\n",
       "      <td>2992</td>\n",
       "      <td>17</td>\n",
       "      <td>2992_17</td>\n",
       "      <td>160</td>\n",
       "      <td>84</td>\n",
       "      <td>3831.970935</td>\n",
       "      <td>g9</td>\n",
       "      <td>3</td>\n",
       "      <td>3</td>\n",
       "    </tr>\n",
       "    <tr>\n",
       "      <th>20933</th>\n",
       "      <td>2992</td>\n",
       "      <td>93</td>\n",
       "      <td>2992_93</td>\n",
       "      <td>137</td>\n",
       "      <td>83</td>\n",
       "      <td>4017.964072</td>\n",
       "      <td>g9</td>\n",
       "      <td>4</td>\n",
       "      <td>4</td>\n",
       "    </tr>\n",
       "    <tr>\n",
       "      <th>20934</th>\n",
       "      <td>2992</td>\n",
       "      <td>98</td>\n",
       "      <td>2992_98</td>\n",
       "      <td>135</td>\n",
       "      <td>78</td>\n",
       "      <td>3351.153040</td>\n",
       "      <td>g1</td>\n",
       "      <td>5</td>\n",
       "      <td>5</td>\n",
       "    </tr>\n",
       "    <tr>\n",
       "      <th>20935</th>\n",
       "      <td>2992</td>\n",
       "      <td>11</td>\n",
       "      <td>2992_11</td>\n",
       "      <td>102</td>\n",
       "      <td>55</td>\n",
       "      <td>3661.654135</td>\n",
       "      <td>g9</td>\n",
       "      <td>6</td>\n",
       "      <td>6</td>\n",
       "    </tr>\n",
       "    <tr>\n",
       "      <th>20936</th>\n",
       "      <td>2992</td>\n",
       "      <td>8</td>\n",
       "      <td>2992_8</td>\n",
       "      <td>97</td>\n",
       "      <td>59</td>\n",
       "      <td>4153.992395</td>\n",
       "      <td>g9</td>\n",
       "      <td>7</td>\n",
       "      <td>7</td>\n",
       "    </tr>\n",
       "    <tr>\n",
       "      <th>20937</th>\n",
       "      <td>2992</td>\n",
       "      <td>34</td>\n",
       "      <td>2992_34</td>\n",
       "      <td>93</td>\n",
       "      <td>40</td>\n",
       "      <td>3571.428572</td>\n",
       "      <td>g9</td>\n",
       "      <td>8</td>\n",
       "      <td>8</td>\n",
       "    </tr>\n",
       "    <tr>\n",
       "      <th>20938</th>\n",
       "      <td>2992</td>\n",
       "      <td>70</td>\n",
       "      <td>2992_70</td>\n",
       "      <td>89</td>\n",
       "      <td>53</td>\n",
       "      <td>4212.180747</td>\n",
       "      <td>g9</td>\n",
       "      <td>9</td>\n",
       "      <td>9</td>\n",
       "    </tr>\n",
       "    <tr>\n",
       "      <th>20939</th>\n",
       "      <td>2992</td>\n",
       "      <td>114</td>\n",
       "      <td>2992_114</td>\n",
       "      <td>89</td>\n",
       "      <td>58</td>\n",
       "      <td>4396.396396</td>\n",
       "      <td>g9</td>\n",
       "      <td>10</td>\n",
       "      <td>10</td>\n",
       "    </tr>\n",
       "  </tbody>\n",
       "</table>\n",
       "</div>"
      ],
      "text/plain": [
       "       user_id  hero_id        id  num_games  num_wins    kda_ratio group  \\\n",
       "20920     2991        9    2991_9        198       101  4241.992883    g9   \n",
       "20921     2991      106  2991_106        197       108  4959.857270    g9   \n",
       "20922     2991       74   2991_74        191        98  4150.309461    g9   \n",
       "20923     2991       14   2991_14        182        89  2745.315162    g9   \n",
       "20924     2991       31   2991_31        172       100  3430.332922    g9   \n",
       "20925     2991       33   2991_33        171       118  3933.422104    g1   \n",
       "20926     2991       51   2991_51        151        82  3596.280087    g9   \n",
       "20927     2991       75   2991_75        146        82  3669.712794    g9   \n",
       "20928     2991       69   2991_69        136        69  3596.651446    g9   \n",
       "20929     2991       93   2991_93        133        73  4164.965986    g9   \n",
       "20930     2992       76   2992_76        290       211  5471.003135    g9   \n",
       "20931     2992       14   2992_14        162        91  3193.750000    g9   \n",
       "20932     2992       17   2992_17        160        84  3831.970935    g9   \n",
       "20933     2992       93   2992_93        137        83  4017.964072    g9   \n",
       "20934     2992       98   2992_98        135        78  3351.153040    g1   \n",
       "20935     2992       11   2992_11        102        55  3661.654135    g9   \n",
       "20936     2992        8    2992_8         97        59  4153.992395    g9   \n",
       "20937     2992       34   2992_34         93        40  3571.428572    g9   \n",
       "20938     2992       70   2992_70         89        53  4212.180747    g9   \n",
       "20939     2992      114  2992_114         89        58  4396.396396    g9   \n",
       "\n",
       "       heroe_order  heroe_order  \n",
       "20920            1            1  \n",
       "20921            2            2  \n",
       "20922            3            3  \n",
       "20923            4            4  \n",
       "20924            5            5  \n",
       "20925            6            6  \n",
       "20926            7            7  \n",
       "20927            8            8  \n",
       "20928            9            9  \n",
       "20929           10           10  \n",
       "20930            1            1  \n",
       "20931            2            2  \n",
       "20932            3            3  \n",
       "20933            4            4  \n",
       "20934            5            5  \n",
       "20935            6            6  \n",
       "20936            7            7  \n",
       "20937            8            8  \n",
       "20938            9            9  \n",
       "20939           10           10  "
      ]
     },
     "execution_count": 477,
     "metadata": {},
     "output_type": "execute_result"
    }
   ],
   "source": [
    "train = train.sort_values(by = ['user_id','num_games','hero_id'], ascending = [True, False, True]).reset_index(drop = True)\n",
    "train_orders = pd.DataFrame(list(range(1,11))*len(train1),columns=['heroe_order'])\n",
    "train = pd.concat([train,train_orders], axis = 1)\n",
    "train.tail(20)"
   ]
  },
  {
   "cell_type": "code",
   "execution_count": 476,
   "metadata": {},
   "outputs": [
    {
     "data": {
      "text/html": [
       "<div>\n",
       "<style>\n",
       "    .dataframe thead tr:only-child th {\n",
       "        text-align: right;\n",
       "    }\n",
       "\n",
       "    .dataframe thead th {\n",
       "        text-align: left;\n",
       "    }\n",
       "\n",
       "    .dataframe tbody tr th {\n",
       "        vertical-align: top;\n",
       "    }\n",
       "</style>\n",
       "<table border=\"1\" class=\"dataframe\">\n",
       "  <thead>\n",
       "    <tr style=\"text-align: right;\">\n",
       "      <th></th>\n",
       "      <th>group</th>\n",
       "      <th>hero_id</th>\n",
       "      <th>id</th>\n",
       "      <th>kda_ratio</th>\n",
       "      <th>num_games</th>\n",
       "      <th>num_wins</th>\n",
       "      <th>user_id</th>\n",
       "      <th>heroe_order</th>\n",
       "    </tr>\n",
       "  </thead>\n",
       "  <tbody>\n",
       "    <tr>\n",
       "      <th>8968</th>\n",
       "      <td>g9</td>\n",
       "      <td>11</td>\n",
       "      <td>2987_11</td>\n",
       "      <td>2914.634146</td>\n",
       "      <td>78</td>\n",
       "      <td>44.0</td>\n",
       "      <td>2987</td>\n",
       "      <td>9</td>\n",
       "    </tr>\n",
       "    <tr>\n",
       "      <th>8969</th>\n",
       "      <td>g9</td>\n",
       "      <td>22</td>\n",
       "      <td>2987_22</td>\n",
       "      <td>4653.758542</td>\n",
       "      <td>76</td>\n",
       "      <td>50.0</td>\n",
       "      <td>2987</td>\n",
       "      <td>10</td>\n",
       "    </tr>\n",
       "    <tr>\n",
       "      <th>8970</th>\n",
       "      <td>g9</td>\n",
       "      <td>17</td>\n",
       "      <td>2988_17</td>\n",
       "      <td>3297.162767</td>\n",
       "      <td>298</td>\n",
       "      <td>178.0</td>\n",
       "      <td>2988</td>\n",
       "      <td>1</td>\n",
       "    </tr>\n",
       "    <tr>\n",
       "      <th>8971</th>\n",
       "      <td>g9</td>\n",
       "      <td>1</td>\n",
       "      <td>2988_1</td>\n",
       "      <td>3290.661070</td>\n",
       "      <td>223</td>\n",
       "      <td>115.0</td>\n",
       "      <td>2988</td>\n",
       "      <td>2</td>\n",
       "    </tr>\n",
       "    <tr>\n",
       "      <th>8972</th>\n",
       "      <td>g1</td>\n",
       "      <td>11</td>\n",
       "      <td>2988_11</td>\n",
       "      <td>NaN</td>\n",
       "      <td>206</td>\n",
       "      <td>NaN</td>\n",
       "      <td>2988</td>\n",
       "      <td>3</td>\n",
       "    </tr>\n",
       "    <tr>\n",
       "      <th>8973</th>\n",
       "      <td>g9</td>\n",
       "      <td>10</td>\n",
       "      <td>2988_10</td>\n",
       "      <td>3980.271270</td>\n",
       "      <td>170</td>\n",
       "      <td>111.0</td>\n",
       "      <td>2988</td>\n",
       "      <td>4</td>\n",
       "    </tr>\n",
       "    <tr>\n",
       "      <th>8974</th>\n",
       "      <td>g9</td>\n",
       "      <td>59</td>\n",
       "      <td>2988_59</td>\n",
       "      <td>2249.566724</td>\n",
       "      <td>152</td>\n",
       "      <td>95.0</td>\n",
       "      <td>2988</td>\n",
       "      <td>5</td>\n",
       "    </tr>\n",
       "    <tr>\n",
       "      <th>8975</th>\n",
       "      <td>g9</td>\n",
       "      <td>98</td>\n",
       "      <td>2988_98</td>\n",
       "      <td>3249.019608</td>\n",
       "      <td>152</td>\n",
       "      <td>87.0</td>\n",
       "      <td>2988</td>\n",
       "      <td>6</td>\n",
       "    </tr>\n",
       "    <tr>\n",
       "      <th>8976</th>\n",
       "      <td>g9</td>\n",
       "      <td>34</td>\n",
       "      <td>2988_34</td>\n",
       "      <td>2807.453416</td>\n",
       "      <td>150</td>\n",
       "      <td>68.0</td>\n",
       "      <td>2988</td>\n",
       "      <td>7</td>\n",
       "    </tr>\n",
       "    <tr>\n",
       "      <th>8977</th>\n",
       "      <td>g9</td>\n",
       "      <td>70</td>\n",
       "      <td>2988_70</td>\n",
       "      <td>2648.760331</td>\n",
       "      <td>149</td>\n",
       "      <td>70.0</td>\n",
       "      <td>2988</td>\n",
       "      <td>8</td>\n",
       "    </tr>\n",
       "    <tr>\n",
       "      <th>8978</th>\n",
       "      <td>g9</td>\n",
       "      <td>34</td>\n",
       "      <td>2988_34</td>\n",
       "      <td>4036.402570</td>\n",
       "      <td>75</td>\n",
       "      <td>49.0</td>\n",
       "      <td>2988</td>\n",
       "      <td>9</td>\n",
       "    </tr>\n",
       "    <tr>\n",
       "      <th>8979</th>\n",
       "      <td>g9</td>\n",
       "      <td>107</td>\n",
       "      <td>2988_107</td>\n",
       "      <td>2714.968153</td>\n",
       "      <td>71</td>\n",
       "      <td>44.0</td>\n",
       "      <td>2988</td>\n",
       "      <td>10</td>\n",
       "    </tr>\n",
       "  </tbody>\n",
       "</table>\n",
       "</div>"
      ],
      "text/plain": [
       "     group  hero_id        id    kda_ratio  num_games  num_wins  user_id  \\\n",
       "8968    g9       11   2987_11  2914.634146         78      44.0     2987   \n",
       "8969    g9       22   2987_22  4653.758542         76      50.0     2987   \n",
       "8970    g9       17   2988_17  3297.162767        298     178.0     2988   \n",
       "8971    g9        1    2988_1  3290.661070        223     115.0     2988   \n",
       "8972    g1       11   2988_11          NaN        206       NaN     2988   \n",
       "8973    g9       10   2988_10  3980.271270        170     111.0     2988   \n",
       "8974    g9       59   2988_59  2249.566724        152      95.0     2988   \n",
       "8975    g9       98   2988_98  3249.019608        152      87.0     2988   \n",
       "8976    g9       34   2988_34  2807.453416        150      68.0     2988   \n",
       "8977    g9       70   2988_70  2648.760331        149      70.0     2988   \n",
       "8978    g9       34   2988_34  4036.402570         75      49.0     2988   \n",
       "8979    g9      107  2988_107  2714.968153         71      44.0     2988   \n",
       "\n",
       "      heroe_order  \n",
       "8968            9  \n",
       "8969           10  \n",
       "8970            1  \n",
       "8971            2  \n",
       "8972            3  \n",
       "8973            4  \n",
       "8974            5  \n",
       "8975            6  \n",
       "8976            7  \n",
       "8977            8  \n",
       "8978            9  \n",
       "8979           10  "
      ]
     },
     "execution_count": 476,
     "metadata": {},
     "output_type": "execute_result"
    }
   ],
   "source": [
    "test = test.sort_values(by = ['user_id','num_games','hero_id'], ascending = [True, False, True]).reset_index(drop = True)\n",
    "test_orders = pd.DataFrame(list(range(1,11))*len(test1),columns=['heroe_order'])\n",
    "test = pd.concat([test,test_orders], axis = 1)\n",
    "test.tail(12)"
   ]
  },
  {
   "cell_type": "code",
   "execution_count": null,
   "metadata": {
    "collapsed": true
   },
   "outputs": [],
   "source": []
  },
  {
   "cell_type": "code",
   "execution_count": 442,
   "metadata": {},
   "outputs": [
    {
     "data": {
      "text/html": [
       "<div>\n",
       "<style>\n",
       "    .dataframe thead tr:only-child th {\n",
       "        text-align: right;\n",
       "    }\n",
       "\n",
       "    .dataframe thead th {\n",
       "        text-align: left;\n",
       "    }\n",
       "\n",
       "    .dataframe tbody tr th {\n",
       "        vertical-align: top;\n",
       "    }\n",
       "</style>\n",
       "<table border=\"1\" class=\"dataframe\">\n",
       "  <thead>\n",
       "    <tr style=\"text-align: right;\">\n",
       "      <th></th>\n",
       "      <th>group</th>\n",
       "      <th>hero_id</th>\n",
       "      <th>heroe_order</th>\n",
       "      <th>id</th>\n",
       "      <th>kda_ratio</th>\n",
       "      <th>num_games</th>\n",
       "      <th>num_wins</th>\n",
       "      <th>user_id</th>\n",
       "    </tr>\n",
       "  </thead>\n",
       "  <tbody>\n",
       "    <tr>\n",
       "      <th>0</th>\n",
       "      <td>train1</td>\n",
       "      <td>41</td>\n",
       "      <td>NaN</td>\n",
       "      <td>1_41</td>\n",
       "      <td>3731.707317</td>\n",
       "      <td>201</td>\n",
       "      <td>125</td>\n",
       "      <td>1</td>\n",
       "    </tr>\n",
       "    <tr>\n",
       "      <th>1</th>\n",
       "      <td>train1</td>\n",
       "      <td>17</td>\n",
       "      <td>NaN</td>\n",
       "      <td>2_17</td>\n",
       "      <td>2922.058381</td>\n",
       "      <td>427</td>\n",
       "      <td>234</td>\n",
       "      <td>2</td>\n",
       "    </tr>\n",
       "    <tr>\n",
       "      <th>2</th>\n",
       "      <td>train1</td>\n",
       "      <td>106</td>\n",
       "      <td>NaN</td>\n",
       "      <td>5_106</td>\n",
       "      <td>5116.682739</td>\n",
       "      <td>240</td>\n",
       "      <td>130</td>\n",
       "      <td>5</td>\n",
       "    </tr>\n",
       "    <tr>\n",
       "      <th>3</th>\n",
       "      <td>train1</td>\n",
       "      <td>65</td>\n",
       "      <td>NaN</td>\n",
       "      <td>6_65</td>\n",
       "      <td>4131.553861</td>\n",
       "      <td>206</td>\n",
       "      <td>122</td>\n",
       "      <td>6</td>\n",
       "    </tr>\n",
       "    <tr>\n",
       "      <th>4</th>\n",
       "      <td>train1</td>\n",
       "      <td>69</td>\n",
       "      <td>NaN</td>\n",
       "      <td>7_69</td>\n",
       "      <td>2474.469306</td>\n",
       "      <td>697</td>\n",
       "      <td>382</td>\n",
       "      <td>7</td>\n",
       "    </tr>\n",
       "  </tbody>\n",
       "</table>\n",
       "</div>"
      ],
      "text/plain": [
       "    group  hero_id  heroe_order     id    kda_ratio  num_games  num_wins  \\\n",
       "0  train1       41          NaN   1_41  3731.707317        201       125   \n",
       "1  train1       17          NaN   2_17  2922.058381        427       234   \n",
       "2  train1      106          NaN  5_106  5116.682739        240       130   \n",
       "3  train1       65          NaN   6_65  4131.553861        206       122   \n",
       "4  train1       69          NaN   7_69  2474.469306        697       382   \n",
       "\n",
       "   user_id  \n",
       "0        1  \n",
       "1        2  \n",
       "2        5  \n",
       "3        6  \n",
       "4        7  "
      ]
     },
     "execution_count": 442,
     "metadata": {},
     "output_type": "execute_result"
    }
   ],
   "source": [
    "train9_tmp = train9.copy()\n",
    "train9_tmp[\"group\"] = \"train9\"\n",
    "train1_tmp = train1.copy()\n",
    "train1_tmp[\"group\"] = \"train1\"\n",
    "train = pd.concat([train1_tmp,train9_tmp],axis=0).fillna(-1train9_tmp)\n",
    "train.head()"
   ]
  },
  {
   "cell_type": "code",
   "execution_count": 440,
   "metadata": {},
   "outputs": [
    {
     "data": {
      "text/html": [
       "<div>\n",
       "<style>\n",
       "    .dataframe thead tr:only-child th {\n",
       "        text-align: right;\n",
       "    }\n",
       "\n",
       "    .dataframe thead th {\n",
       "        text-align: left;\n",
       "    }\n",
       "\n",
       "    .dataframe tbody tr th {\n",
       "        vertical-align: top;\n",
       "    }\n",
       "</style>\n",
       "<table border=\"1\" class=\"dataframe\">\n",
       "  <thead>\n",
       "    <tr style=\"text-align: right;\">\n",
       "      <th></th>\n",
       "      <th>user_id</th>\n",
       "      <th>hero_id</th>\n",
       "      <th>id</th>\n",
       "      <th>num_games</th>\n",
       "      <th>num_wins</th>\n",
       "      <th>kda_ratio</th>\n",
       "      <th>group</th>\n",
       "    </tr>\n",
       "  </thead>\n",
       "  <tbody>\n",
       "    <tr>\n",
       "      <th>0</th>\n",
       "      <td>1</td>\n",
       "      <td>41</td>\n",
       "      <td>1_41</td>\n",
       "      <td>201</td>\n",
       "      <td>125</td>\n",
       "      <td>3731.707317</td>\n",
       "      <td>train1</td>\n",
       "    </tr>\n",
       "    <tr>\n",
       "      <th>1</th>\n",
       "      <td>2</td>\n",
       "      <td>17</td>\n",
       "      <td>2_17</td>\n",
       "      <td>427</td>\n",
       "      <td>234</td>\n",
       "      <td>2922.058381</td>\n",
       "      <td>train1</td>\n",
       "    </tr>\n",
       "    <tr>\n",
       "      <th>2</th>\n",
       "      <td>5</td>\n",
       "      <td>106</td>\n",
       "      <td>5_106</td>\n",
       "      <td>240</td>\n",
       "      <td>130</td>\n",
       "      <td>5116.682739</td>\n",
       "      <td>train1</td>\n",
       "    </tr>\n",
       "    <tr>\n",
       "      <th>3</th>\n",
       "      <td>6</td>\n",
       "      <td>65</td>\n",
       "      <td>6_65</td>\n",
       "      <td>206</td>\n",
       "      <td>122</td>\n",
       "      <td>4131.553861</td>\n",
       "      <td>train1</td>\n",
       "    </tr>\n",
       "    <tr>\n",
       "      <th>4</th>\n",
       "      <td>7</td>\n",
       "      <td>69</td>\n",
       "      <td>7_69</td>\n",
       "      <td>697</td>\n",
       "      <td>382</td>\n",
       "      <td>2474.469306</td>\n",
       "      <td>train1</td>\n",
       "    </tr>\n",
       "  </tbody>\n",
       "</table>\n",
       "</div>"
      ],
      "text/plain": [
       "   user_id  hero_id     id  num_games  num_wins    kda_ratio   group\n",
       "0        1       41   1_41        201       125  3731.707317  train1\n",
       "1        2       17   2_17        427       234  2922.058381  train1\n",
       "2        5      106  5_106        240       130  5116.682739  train1\n",
       "3        6       65   6_65        206       122  4131.553861  train1\n",
       "4        7       69   7_69        697       382  2474.469306  train1"
      ]
     },
     "execution_count": 440,
     "metadata": {},
     "output_type": "execute_result"
    }
   ],
   "source": [
    "train1_tmp.head()"
   ]
  },
  {
   "cell_type": "code",
   "execution_count": null,
   "metadata": {
    "collapsed": true
   },
   "outputs": [],
   "source": []
  },
  {
   "cell_type": "code",
   "execution_count": null,
   "metadata": {
    "collapsed": true
   },
   "outputs": [],
   "source": []
  },
  {
   "cell_type": "code",
   "execution_count": null,
   "metadata": {
    "collapsed": true
   },
   "outputs": [],
   "source": []
  },
  {
   "cell_type": "code",
   "execution_count": null,
   "metadata": {
    "collapsed": true
   },
   "outputs": [],
   "source": []
  },
  {
   "cell_type": "code",
   "execution_count": null,
   "metadata": {
    "collapsed": true
   },
   "outputs": [],
   "source": []
  },
  {
   "cell_type": "code",
   "execution_count": null,
   "metadata": {
    "collapsed": true
   },
   "outputs": [],
   "source": []
  },
  {
   "cell_type": "code",
   "execution_count": null,
   "metadata": {
    "collapsed": true
   },
   "outputs": [],
   "source": []
  },
  {
   "cell_type": "code",
   "execution_count": null,
   "metadata": {
    "collapsed": true
   },
   "outputs": [],
   "source": []
  },
  {
   "cell_type": "code",
   "execution_count": null,
   "metadata": {
    "collapsed": true
   },
   "outputs": [],
   "source": []
  },
  {
   "cell_type": "code",
   "execution_count": null,
   "metadata": {
    "collapsed": true
   },
   "outputs": [],
   "source": []
  },
  {
   "cell_type": "code",
   "execution_count": null,
   "metadata": {
    "collapsed": true
   },
   "outputs": [],
   "source": []
  },
  {
   "cell_type": "code",
   "execution_count": null,
   "metadata": {
    "collapsed": true
   },
   "outputs": [],
   "source": []
  },
  {
   "cell_type": "code",
   "execution_count": null,
   "metadata": {
    "collapsed": true
   },
   "outputs": [],
   "source": []
  },
  {
   "cell_type": "code",
   "execution_count": null,
   "metadata": {
    "collapsed": true
   },
   "outputs": [],
   "source": []
  },
  {
   "cell_type": "code",
   "execution_count": null,
   "metadata": {
    "collapsed": true
   },
   "outputs": [],
   "source": []
  },
  {
   "cell_type": "code",
   "execution_count": null,
   "metadata": {
    "collapsed": true
   },
   "outputs": [],
   "source": []
  },
  {
   "cell_type": "code",
   "execution_count": null,
   "metadata": {
    "collapsed": true
   },
   "outputs": [],
   "source": []
  },
  {
   "cell_type": "code",
   "execution_count": null,
   "metadata": {
    "collapsed": true
   },
   "outputs": [],
   "source": []
  },
  {
   "cell_type": "code",
   "execution_count": null,
   "metadata": {
    "collapsed": true
   },
   "outputs": [],
   "source": []
  },
  {
   "cell_type": "code",
   "execution_count": null,
   "metadata": {
    "collapsed": true
   },
   "outputs": [],
   "source": []
  },
  {
   "cell_type": "code",
   "execution_count": null,
   "metadata": {
    "collapsed": true
   },
   "outputs": [],
   "source": []
  },
  {
   "cell_type": "code",
   "execution_count": null,
   "metadata": {
    "collapsed": true
   },
   "outputs": [],
   "source": []
  },
  {
   "cell_type": "code",
   "execution_count": null,
   "metadata": {
    "collapsed": true
   },
   "outputs": [],
   "source": []
  },
  {
   "cell_type": "code",
   "execution_count": null,
   "metadata": {
    "collapsed": true
   },
   "outputs": [],
   "source": []
  },
  {
   "cell_type": "code",
   "execution_count": null,
   "metadata": {
    "collapsed": true
   },
   "outputs": [],
   "source": []
  },
  {
   "cell_type": "code",
   "execution_count": null,
   "metadata": {
    "collapsed": true
   },
   "outputs": [],
   "source": []
  },
  {
   "cell_type": "code",
   "execution_count": null,
   "metadata": {
    "collapsed": true
   },
   "outputs": [],
   "source": []
  },
  {
   "cell_type": "code",
   "execution_count": null,
   "metadata": {
    "collapsed": true
   },
   "outputs": [],
   "source": []
  },
  {
   "cell_type": "code",
   "execution_count": null,
   "metadata": {
    "collapsed": true
   },
   "outputs": [],
   "source": []
  },
  {
   "cell_type": "code",
   "execution_count": null,
   "metadata": {
    "collapsed": true
   },
   "outputs": [],
   "source": []
  },
  {
   "cell_type": "code",
   "execution_count": null,
   "metadata": {
    "collapsed": true
   },
   "outputs": [],
   "source": []
  },
  {
   "cell_type": "code",
   "execution_count": null,
   "metadata": {
    "collapsed": true
   },
   "outputs": [],
   "source": []
  },
  {
   "cell_type": "code",
   "execution_count": null,
   "metadata": {
    "collapsed": true
   },
   "outputs": [],
   "source": []
  },
  {
   "cell_type": "code",
   "execution_count": null,
   "metadata": {
    "collapsed": true
   },
   "outputs": [],
   "source": []
  },
  {
   "cell_type": "code",
   "execution_count": null,
   "metadata": {
    "collapsed": true
   },
   "outputs": [],
   "source": []
  },
  {
   "cell_type": "code",
   "execution_count": null,
   "metadata": {
    "collapsed": true
   },
   "outputs": [],
   "source": []
  },
  {
   "cell_type": "code",
   "execution_count": null,
   "metadata": {
    "collapsed": true
   },
   "outputs": [],
   "source": []
  },
  {
   "cell_type": "code",
   "execution_count": null,
   "metadata": {
    "collapsed": true
   },
   "outputs": [],
   "source": []
  },
  {
   "cell_type": "code",
   "execution_count": null,
   "metadata": {
    "collapsed": true
   },
   "outputs": [],
   "source": []
  },
  {
   "cell_type": "code",
   "execution_count": null,
   "metadata": {
    "collapsed": true
   },
   "outputs": [],
   "source": []
  },
  {
   "cell_type": "code",
   "execution_count": null,
   "metadata": {
    "collapsed": true
   },
   "outputs": [],
   "source": []
  },
  {
   "cell_type": "code",
   "execution_count": null,
   "metadata": {
    "collapsed": true
   },
   "outputs": [],
   "source": []
  },
  {
   "cell_type": "code",
   "execution_count": null,
   "metadata": {
    "collapsed": true
   },
   "outputs": [],
   "source": []
  },
  {
   "cell_type": "code",
   "execution_count": null,
   "metadata": {
    "collapsed": true
   },
   "outputs": [],
   "source": []
  },
  {
   "cell_type": "code",
   "execution_count": null,
   "metadata": {
    "collapsed": true
   },
   "outputs": [],
   "source": []
  },
  {
   "cell_type": "code",
   "execution_count": null,
   "metadata": {
    "collapsed": true
   },
   "outputs": [],
   "source": []
  },
  {
   "cell_type": "code",
   "execution_count": null,
   "metadata": {
    "collapsed": true
   },
   "outputs": [],
   "source": []
  },
  {
   "cell_type": "code",
   "execution_count": null,
   "metadata": {
    "collapsed": true
   },
   "outputs": [],
   "source": []
  },
  {
   "cell_type": "code",
   "execution_count": null,
   "metadata": {
    "collapsed": true
   },
   "outputs": [],
   "source": []
  },
  {
   "cell_type": "markdown",
   "metadata": {},
   "source": [
    "### For Train"
   ]
  },
  {
   "cell_type": "code",
   "execution_count": 381,
   "metadata": {
    "collapsed": true
   },
   "outputs": [],
   "source": [
    "train9_temp = train9[(train9['heroe_order']>=1)&(train9['heroe_order']<=9)&(train9['kda_ratio']!=0)]"
   ]
  },
  {
   "cell_type": "code",
   "execution_count": 382,
   "metadata": {
    "scrolled": true
   },
   "outputs": [],
   "source": [
    "#train_wmean10 = train9_temp.groupby(['user_id']).apply(f_wmean).reset_index().rename(columns ={0:'kda_ratio_wmean10'})\n",
    "train_wmean10 = train9_temp.groupby(['user_id'])['kda_ratio'].apply(hmean, axis=None).reset_index().rename(columns ={'kda_ratio':'kda_ratio_wmean10'})"
   ]
  },
  {
   "cell_type": "code",
   "execution_count": 383,
   "metadata": {},
   "outputs": [
    {
     "name": "stdout",
     "output_type": "stream",
     "text": [
      "789.614474832\n"
     ]
    }
   ],
   "source": [
    "print(rmse(np.array(train1['kda_ratio']), np.array(train_wmean10['kda_ratio_wmean10'])))"
   ]
  },
  {
   "cell_type": "code",
   "execution_count": 387,
   "metadata": {
    "scrolled": true
   },
   "outputs": [],
   "source": [
    "list_a = list()\n",
    "list_b = list()\n",
    "list_rmse = list()\n",
    "for a in range(1,9):\n",
    "    for b in range(a,10):\n",
    "        train9_temp = train9[(train9['heroe_order']>=a)&(train9['heroe_order']<=b)&(train9['kda_ratio']>0)]\n",
    "        #train_wmean10 = train9_temp.groupby(['user_id']).apply(f_wmean).reset_index().rename(columns ={0:'kda_ratio_wmean10'})\n",
    "        train_wmean10 = train9_temp.groupby(['user_id'])['kda_ratio'].apply(hmean, axis=None).reset_index().rename(columns ={'kda_ratio':'kda_ratio_wmean10'})\n",
    "        rmse_valor = rmse(np.array(train1['kda_ratio']), np.array(train_wmean10['kda_ratio_wmean10']))\n",
    "        list_a.append(a)\n",
    "        list_b.append(b)\n",
    "        list_rmse.append(rmse_valor)"
   ]
  },
  {
   "cell_type": "code",
   "execution_count": 388,
   "metadata": {
    "scrolled": true
   },
   "outputs": [],
   "source": [
    "results_temp = pd.concat([pd.DataFrame(list_a,columns=['a']),\n",
    "                          pd.DataFrame(list_b,columns=['b']),\n",
    "                          pd.DataFrame(list_rmse,columns=['rmse'])],axis = 1)"
   ]
  },
  {
   "cell_type": "code",
   "execution_count": 389,
   "metadata": {
    "scrolled": true
   },
   "outputs": [
    {
     "data": {
      "text/html": [
       "<div>\n",
       "<style>\n",
       "    .dataframe thead tr:only-child th {\n",
       "        text-align: right;\n",
       "    }\n",
       "\n",
       "    .dataframe thead th {\n",
       "        text-align: left;\n",
       "    }\n",
       "\n",
       "    .dataframe tbody tr th {\n",
       "        vertical-align: top;\n",
       "    }\n",
       "</style>\n",
       "<table border=\"1\" class=\"dataframe\">\n",
       "  <thead>\n",
       "    <tr style=\"text-align: right;\">\n",
       "      <th></th>\n",
       "      <th>a</th>\n",
       "      <th>b</th>\n",
       "      <th>rmse</th>\n",
       "    </tr>\n",
       "  </thead>\n",
       "  <tbody>\n",
       "    <tr>\n",
       "      <th>0</th>\n",
       "      <td>1</td>\n",
       "      <td>9</td>\n",
       "      <td>789.614475</td>\n",
       "    </tr>\n",
       "    <tr>\n",
       "      <th>1</th>\n",
       "      <td>1</td>\n",
       "      <td>8</td>\n",
       "      <td>793.945645</td>\n",
       "    </tr>\n",
       "    <tr>\n",
       "      <th>2</th>\n",
       "      <td>2</td>\n",
       "      <td>9</td>\n",
       "      <td>795.906686</td>\n",
       "    </tr>\n",
       "    <tr>\n",
       "      <th>3</th>\n",
       "      <td>1</td>\n",
       "      <td>7</td>\n",
       "      <td>799.932560</td>\n",
       "    </tr>\n",
       "    <tr>\n",
       "      <th>4</th>\n",
       "      <td>2</td>\n",
       "      <td>8</td>\n",
       "      <td>800.001445</td>\n",
       "    </tr>\n",
       "    <tr>\n",
       "      <th>5</th>\n",
       "      <td>1</td>\n",
       "      <td>5</td>\n",
       "      <td>803.641374</td>\n",
       "    </tr>\n",
       "    <tr>\n",
       "      <th>6</th>\n",
       "      <td>3</td>\n",
       "      <td>9</td>\n",
       "      <td>805.105527</td>\n",
       "    </tr>\n",
       "    <tr>\n",
       "      <th>7</th>\n",
       "      <td>2</td>\n",
       "      <td>7</td>\n",
       "      <td>806.972317</td>\n",
       "    </tr>\n",
       "    <tr>\n",
       "      <th>8</th>\n",
       "      <td>1</td>\n",
       "      <td>6</td>\n",
       "      <td>807.116953</td>\n",
       "    </tr>\n",
       "    <tr>\n",
       "      <th>9</th>\n",
       "      <td>3</td>\n",
       "      <td>8</td>\n",
       "      <td>809.690612</td>\n",
       "    </tr>\n",
       "    <tr>\n",
       "      <th>10</th>\n",
       "      <td>4</td>\n",
       "      <td>9</td>\n",
       "      <td>810.450857</td>\n",
       "    </tr>\n",
       "    <tr>\n",
       "      <th>11</th>\n",
       "      <td>2</td>\n",
       "      <td>5</td>\n",
       "      <td>811.589922</td>\n",
       "    </tr>\n",
       "    <tr>\n",
       "      <th>12</th>\n",
       "      <td>4</td>\n",
       "      <td>8</td>\n",
       "      <td>814.967661</td>\n",
       "    </tr>\n",
       "    <tr>\n",
       "      <th>13</th>\n",
       "      <td>2</td>\n",
       "      <td>6</td>\n",
       "      <td>815.047951</td>\n",
       "    </tr>\n",
       "    <tr>\n",
       "      <th>14</th>\n",
       "      <td>3</td>\n",
       "      <td>7</td>\n",
       "      <td>819.625671</td>\n",
       "    </tr>\n",
       "    <tr>\n",
       "      <th>15</th>\n",
       "      <td>4</td>\n",
       "      <td>7</td>\n",
       "      <td>827.277478</td>\n",
       "    </tr>\n",
       "    <tr>\n",
       "      <th>16</th>\n",
       "      <td>5</td>\n",
       "      <td>9</td>\n",
       "      <td>828.081916</td>\n",
       "    </tr>\n",
       "    <tr>\n",
       "      <th>17</th>\n",
       "      <td>3</td>\n",
       "      <td>6</td>\n",
       "      <td>832.241041</td>\n",
       "    </tr>\n",
       "    <tr>\n",
       "      <th>18</th>\n",
       "      <td>1</td>\n",
       "      <td>4</td>\n",
       "      <td>832.739092</td>\n",
       "    </tr>\n",
       "    <tr>\n",
       "      <th>19</th>\n",
       "      <td>5</td>\n",
       "      <td>8</td>\n",
       "      <td>833.962317</td>\n",
       "    </tr>\n",
       "    <tr>\n",
       "      <th>20</th>\n",
       "      <td>3</td>\n",
       "      <td>5</td>\n",
       "      <td>836.645649</td>\n",
       "    </tr>\n",
       "    <tr>\n",
       "      <th>21</th>\n",
       "      <td>4</td>\n",
       "      <td>6</td>\n",
       "      <td>846.245446</td>\n",
       "    </tr>\n",
       "    <tr>\n",
       "      <th>22</th>\n",
       "      <td>2</td>\n",
       "      <td>4</td>\n",
       "      <td>850.383223</td>\n",
       "    </tr>\n",
       "    <tr>\n",
       "      <th>23</th>\n",
       "      <td>4</td>\n",
       "      <td>5</td>\n",
       "      <td>852.585087</td>\n",
       "    </tr>\n",
       "    <tr>\n",
       "      <th>24</th>\n",
       "      <td>6</td>\n",
       "      <td>9</td>\n",
       "      <td>856.537379</td>\n",
       "    </tr>\n",
       "    <tr>\n",
       "      <th>25</th>\n",
       "      <td>5</td>\n",
       "      <td>7</td>\n",
       "      <td>858.185770</td>\n",
       "    </tr>\n",
       "    <tr>\n",
       "      <th>26</th>\n",
       "      <td>7</td>\n",
       "      <td>9</td>\n",
       "      <td>865.861597</td>\n",
       "    </tr>\n",
       "    <tr>\n",
       "      <th>27</th>\n",
       "      <td>6</td>\n",
       "      <td>8</td>\n",
       "      <td>869.667979</td>\n",
       "    </tr>\n",
       "    <tr>\n",
       "      <th>28</th>\n",
       "      <td>1</td>\n",
       "      <td>3</td>\n",
       "      <td>877.785151</td>\n",
       "    </tr>\n",
       "    <tr>\n",
       "      <th>29</th>\n",
       "      <td>5</td>\n",
       "      <td>6</td>\n",
       "      <td>900.899221</td>\n",
       "    </tr>\n",
       "    <tr>\n",
       "      <th>30</th>\n",
       "      <td>7</td>\n",
       "      <td>8</td>\n",
       "      <td>901.785958</td>\n",
       "    </tr>\n",
       "    <tr>\n",
       "      <th>31</th>\n",
       "      <td>3</td>\n",
       "      <td>4</td>\n",
       "      <td>911.573859</td>\n",
       "    </tr>\n",
       "    <tr>\n",
       "      <th>32</th>\n",
       "      <td>2</td>\n",
       "      <td>3</td>\n",
       "      <td>911.987284</td>\n",
       "    </tr>\n",
       "    <tr>\n",
       "      <th>33</th>\n",
       "      <td>6</td>\n",
       "      <td>7</td>\n",
       "      <td>925.283170</td>\n",
       "    </tr>\n",
       "    <tr>\n",
       "      <th>34</th>\n",
       "      <td>8</td>\n",
       "      <td>9</td>\n",
       "      <td>929.781395</td>\n",
       "    </tr>\n",
       "    <tr>\n",
       "      <th>35</th>\n",
       "      <td>1</td>\n",
       "      <td>2</td>\n",
       "      <td>946.969756</td>\n",
       "    </tr>\n",
       "    <tr>\n",
       "      <th>36</th>\n",
       "      <td>5</td>\n",
       "      <td>5</td>\n",
       "      <td>996.380466</td>\n",
       "    </tr>\n",
       "    <tr>\n",
       "      <th>37</th>\n",
       "      <td>4</td>\n",
       "      <td>4</td>\n",
       "      <td>1021.412574</td>\n",
       "    </tr>\n",
       "    <tr>\n",
       "      <th>38</th>\n",
       "      <td>8</td>\n",
       "      <td>8</td>\n",
       "      <td>1044.554091</td>\n",
       "    </tr>\n",
       "    <tr>\n",
       "      <th>39</th>\n",
       "      <td>3</td>\n",
       "      <td>3</td>\n",
       "      <td>1058.875392</td>\n",
       "    </tr>\n",
       "    <tr>\n",
       "      <th>40</th>\n",
       "      <td>2</td>\n",
       "      <td>2</td>\n",
       "      <td>1062.752464</td>\n",
       "    </tr>\n",
       "    <tr>\n",
       "      <th>41</th>\n",
       "      <td>1</td>\n",
       "      <td>1</td>\n",
       "      <td>1085.708786</td>\n",
       "    </tr>\n",
       "    <tr>\n",
       "      <th>42</th>\n",
       "      <td>6</td>\n",
       "      <td>6</td>\n",
       "      <td>1228.621140</td>\n",
       "    </tr>\n",
       "    <tr>\n",
       "      <th>43</th>\n",
       "      <td>7</td>\n",
       "      <td>7</td>\n",
       "      <td>1386.358329</td>\n",
       "    </tr>\n",
       "  </tbody>\n",
       "</table>\n",
       "</div>"
      ],
      "text/plain": [
       "    a  b         rmse\n",
       "0   1  9   789.614475\n",
       "1   1  8   793.945645\n",
       "2   2  9   795.906686\n",
       "3   1  7   799.932560\n",
       "4   2  8   800.001445\n",
       "5   1  5   803.641374\n",
       "6   3  9   805.105527\n",
       "7   2  7   806.972317\n",
       "8   1  6   807.116953\n",
       "9   3  8   809.690612\n",
       "10  4  9   810.450857\n",
       "11  2  5   811.589922\n",
       "12  4  8   814.967661\n",
       "13  2  6   815.047951\n",
       "14  3  7   819.625671\n",
       "15  4  7   827.277478\n",
       "16  5  9   828.081916\n",
       "17  3  6   832.241041\n",
       "18  1  4   832.739092\n",
       "19  5  8   833.962317\n",
       "20  3  5   836.645649\n",
       "21  4  6   846.245446\n",
       "22  2  4   850.383223\n",
       "23  4  5   852.585087\n",
       "24  6  9   856.537379\n",
       "25  5  7   858.185770\n",
       "26  7  9   865.861597\n",
       "27  6  8   869.667979\n",
       "28  1  3   877.785151\n",
       "29  5  6   900.899221\n",
       "30  7  8   901.785958\n",
       "31  3  4   911.573859\n",
       "32  2  3   911.987284\n",
       "33  6  7   925.283170\n",
       "34  8  9   929.781395\n",
       "35  1  2   946.969756\n",
       "36  5  5   996.380466\n",
       "37  4  4  1021.412574\n",
       "38  8  8  1044.554091\n",
       "39  3  3  1058.875392\n",
       "40  2  2  1062.752464\n",
       "41  1  1  1085.708786\n",
       "42  6  6  1228.621140\n",
       "43  7  7  1386.358329"
      ]
     },
     "execution_count": 389,
     "metadata": {},
     "output_type": "execute_result"
    }
   ],
   "source": [
    "results_temp.sort_values(by = ['rmse','a','b'], ascending = [True, True, True]).reset_index(drop = True)"
   ]
  },
  {
   "cell_type": "code",
   "execution_count": null,
   "metadata": {},
   "outputs": [],
   "source": []
  },
  {
   "cell_type": "markdown",
   "metadata": {},
   "source": [
    "### For Test"
   ]
  },
  {
   "cell_type": "code",
   "execution_count": 300,
   "metadata": {
    "collapsed": true
   },
   "outputs": [],
   "source": [
    "test9_temp = test9[(test9['heroe_order']>=2)&(test9['heroe_order']<=9)]"
   ]
  },
  {
   "cell_type": "code",
   "execution_count": 301,
   "metadata": {
    "collapsed": true
   },
   "outputs": [],
   "source": [
    "test_wmean10 = test9_temp.groupby(['user_id']).apply(f_wmean).reset_index().rename(columns ={0:'kda_ratio_wmean10'})"
   ]
  },
  {
   "cell_type": "code",
   "execution_count": 302,
   "metadata": {},
   "outputs": [
    {
     "data": {
      "text/html": [
       "<div>\n",
       "<style>\n",
       "    .dataframe thead tr:only-child th {\n",
       "        text-align: right;\n",
       "    }\n",
       "\n",
       "    .dataframe thead th {\n",
       "        text-align: left;\n",
       "    }\n",
       "\n",
       "    .dataframe tbody tr th {\n",
       "        vertical-align: top;\n",
       "    }\n",
       "</style>\n",
       "<table border=\"1\" class=\"dataframe\">\n",
       "  <thead>\n",
       "    <tr style=\"text-align: right;\">\n",
       "      <th></th>\n",
       "      <th>user_id</th>\n",
       "      <th>kda_ratio</th>\n",
       "    </tr>\n",
       "  </thead>\n",
       "  <tbody>\n",
       "    <tr>\n",
       "      <th>0</th>\n",
       "      <td>3</td>\n",
       "      <td>3036.564348</td>\n",
       "    </tr>\n",
       "    <tr>\n",
       "      <th>1</th>\n",
       "      <td>4</td>\n",
       "      <td>3194.807998</td>\n",
       "    </tr>\n",
       "    <tr>\n",
       "      <th>2</th>\n",
       "      <td>9</td>\n",
       "      <td>3011.026531</td>\n",
       "    </tr>\n",
       "    <tr>\n",
       "      <th>3</th>\n",
       "      <td>10</td>\n",
       "      <td>3959.363168</td>\n",
       "    </tr>\n",
       "    <tr>\n",
       "      <th>4</th>\n",
       "      <td>15</td>\n",
       "      <td>4744.288995</td>\n",
       "    </tr>\n",
       "  </tbody>\n",
       "</table>\n",
       "</div>"
      ],
      "text/plain": [
       "   user_id    kda_ratio\n",
       "0        3  3036.564348\n",
       "1        4  3194.807998\n",
       "2        9  3011.026531\n",
       "3       10  3959.363168\n",
       "4       15  4744.288995"
      ]
     },
     "execution_count": 302,
     "metadata": {},
     "output_type": "execute_result"
    }
   ],
   "source": [
    "subm = test_wmean10.rename(columns ={'kda_ratio_wmean10':'kda_ratio'})\n",
    "subm.head()"
   ]
  },
  {
   "cell_type": "code",
   "execution_count": 303,
   "metadata": {},
   "outputs": [
    {
     "data": {
      "text/html": [
       "<div>\n",
       "<style>\n",
       "    .dataframe thead tr:only-child th {\n",
       "        text-align: right;\n",
       "    }\n",
       "\n",
       "    .dataframe thead th {\n",
       "        text-align: left;\n",
       "    }\n",
       "\n",
       "    .dataframe tbody tr th {\n",
       "        vertical-align: top;\n",
       "    }\n",
       "</style>\n",
       "<table border=\"1\" class=\"dataframe\">\n",
       "  <thead>\n",
       "    <tr style=\"text-align: right;\">\n",
       "      <th></th>\n",
       "      <th>id</th>\n",
       "      <th>user_id</th>\n",
       "      <th>kda_ratio</th>\n",
       "    </tr>\n",
       "  </thead>\n",
       "  <tbody>\n",
       "    <tr>\n",
       "      <th>0</th>\n",
       "      <td>3_53</td>\n",
       "      <td>3</td>\n",
       "      <td>3036.564348</td>\n",
       "    </tr>\n",
       "    <tr>\n",
       "      <th>1</th>\n",
       "      <td>4_17</td>\n",
       "      <td>4</td>\n",
       "      <td>3194.807998</td>\n",
       "    </tr>\n",
       "    <tr>\n",
       "      <th>2</th>\n",
       "      <td>9_51</td>\n",
       "      <td>9</td>\n",
       "      <td>3011.026531</td>\n",
       "    </tr>\n",
       "    <tr>\n",
       "      <th>3</th>\n",
       "      <td>10_54</td>\n",
       "      <td>10</td>\n",
       "      <td>3959.363168</td>\n",
       "    </tr>\n",
       "    <tr>\n",
       "      <th>4</th>\n",
       "      <td>15_74</td>\n",
       "      <td>15</td>\n",
       "      <td>4744.288995</td>\n",
       "    </tr>\n",
       "  </tbody>\n",
       "</table>\n",
       "</div>"
      ],
      "text/plain": [
       "      id  user_id    kda_ratio\n",
       "0   3_53        3  3036.564348\n",
       "1   4_17        4  3194.807998\n",
       "2   9_51        9  3011.026531\n",
       "3  10_54       10  3959.363168\n",
       "4  15_74       15  4744.288995"
      ]
     },
     "execution_count": 303,
     "metadata": {},
     "output_type": "execute_result"
    }
   ],
   "source": [
    "subm = pd.merge(test1[['id','user_id']],subm, on = ['user_id'], how = 'left')\n",
    "subm.head()"
   ]
  },
  {
   "cell_type": "code",
   "execution_count": 304,
   "metadata": {
    "collapsed": true
   },
   "outputs": [],
   "source": [
    "subm[['id','kda_ratio']].to_csv(\"subm/subm1_baseline.csv\")"
   ]
  },
  {
   "cell_type": "code",
   "execution_count": null,
   "metadata": {
    "collapsed": true
   },
   "outputs": [],
   "source": []
  },
  {
   "cell_type": "code",
   "execution_count": null,
   "metadata": {
    "collapsed": true
   },
   "outputs": [],
   "source": []
  },
  {
   "cell_type": "code",
   "execution_count": null,
   "metadata": {
    "collapsed": true
   },
   "outputs": [],
   "source": []
  },
  {
   "cell_type": "code",
   "execution_count": null,
   "metadata": {
    "collapsed": true
   },
   "outputs": [],
   "source": []
  },
  {
   "cell_type": "code",
   "execution_count": null,
   "metadata": {
    "collapsed": true
   },
   "outputs": [],
   "source": []
  },
  {
   "cell_type": "code",
   "execution_count": null,
   "metadata": {
    "collapsed": true
   },
   "outputs": [],
   "source": []
  },
  {
   "cell_type": "code",
   "execution_count": null,
   "metadata": {
    "collapsed": true
   },
   "outputs": [],
   "source": [
    "1 - 766"
   ]
  },
  {
   "cell_type": "code",
   "execution_count": 298,
   "metadata": {
    "collapsed": true
   },
   "outputs": [],
   "source": [
    "train9_temp = train9[(train9['heroe_order']>=1)&(train9['heroe_order']<=9)]"
   ]
  },
  {
   "cell_type": "code",
   "execution_count": 299,
   "metadata": {},
   "outputs": [
    {
     "name": "stdout",
     "output_type": "stream",
     "text": [
      "761.666078125\n"
     ]
    }
   ],
   "source": [
    "train_mean10 = train9_temp.groupby(['user_id'])['kda_ratio'].mean().reset_index().rename(columns ={'kda_ratio':'kda_ratio_mean10'})\n",
    "print(rmse(np.array(train1['kda_ratio']), np.array(train_mean10['kda_ratio_mean10'])))"
   ]
  },
  {
   "cell_type": "code",
   "execution_count": null,
   "metadata": {
    "collapsed": true
   },
   "outputs": [],
   "source": []
  },
  {
   "cell_type": "code",
   "execution_count": null,
   "metadata": {
    "collapsed": true
   },
   "outputs": [],
   "source": []
  },
  {
   "cell_type": "code",
   "execution_count": 33,
   "metadata": {},
   "outputs": [
    {
     "name": "stdout",
     "output_type": "stream",
     "text": [
      "visitors_mean:\n",
      "761.666078125\n"
     ]
    }
   ],
   "source": [
    "print(rmse(np.array(train1['kda_ratio']), np.array(train_mean10['kda_ratio_mean10'])))"
   ]
  },
  {
   "cell_type": "code",
   "execution_count": 219,
   "metadata": {
    "collapsed": true
   },
   "outputs": [],
   "source": [
    "a = 2\n",
    "b = 3"
   ]
  },
  {
   "cell_type": "code",
   "execution_count": 220,
   "metadata": {},
   "outputs": [
    {
     "data": {
      "text/plain": [
       "0    3878.507183\n",
       "1    2860.897865\n",
       "2    4183.317341\n",
       "3    3877.734810\n",
       "4    3005.878727\n",
       "dtype: float64"
      ]
     },
     "execution_count": 220,
     "metadata": {},
     "output_type": "execute_result"
    }
   ],
   "source": [
    "temp = (a*train_wmean10['kda_ratio_wmean10'] + b*train_mean10['kda_ratio_mean10'])/(a+b)\n",
    "temp.head()"
   ]
  },
  {
   "cell_type": "code",
   "execution_count": 221,
   "metadata": {},
   "outputs": [
    {
     "name": "stdout",
     "output_type": "stream",
     "text": [
      "763.156925411\n"
     ]
    }
   ],
   "source": [
    "print(rmse(np.array(train1['kda_ratio']), temp))"
   ]
  },
  {
   "cell_type": "code",
   "execution_count": 282,
   "metadata": {},
   "outputs": [],
   "source": [
    "list_rmse = list()\n",
    "for a in range(1,20):\n",
    "    for b in range(1,20):\n",
    "        temp = (a*train_wmean10['kda_ratio_wmean10'] + b*train_mean10['kda_ratio_mean10'])/(a+b)\n",
    "        rmse_valor = rmse(np.array(train1['kda_ratio']), temp)\n",
    "        list_rmse.append(rmse_valor)"
   ]
  },
  {
   "cell_type": "code",
   "execution_count": 283,
   "metadata": {},
   "outputs": [
    {
     "data": {
      "text/plain": [
       "757.12115676090264"
      ]
     },
     "execution_count": 283,
     "metadata": {},
     "output_type": "execute_result"
    }
   ],
   "source": [
    "min(list_rmse)"
   ]
  },
  {
   "cell_type": "code",
   "execution_count": null,
   "metadata": {
    "collapsed": true
   },
   "outputs": [],
   "source": []
  },
  {
   "cell_type": "code",
   "execution_count": 347,
   "metadata": {
    "collapsed": true
   },
   "outputs": [],
   "source": [
    "train9_temp = train9[(train9['heroe_order']>=2)&(train9['heroe_order']<=8)]"
   ]
  },
  {
   "cell_type": "code",
   "execution_count": 348,
   "metadata": {
    "collapsed": true
   },
   "outputs": [],
   "source": [
    "train_kdaSum_gamesSum10 = train9_temp.groupby(['user_id']).apply(f_kdaSum_gamesSum).reset_index().rename(\n",
    "                                                                                    columns={0:'kda_ratio_kdaSum_gamesSum10'})"
   ]
  },
  {
   "cell_type": "code",
   "execution_count": 349,
   "metadata": {},
   "outputs": [
    {
     "name": "stdout",
     "output_type": "stream",
     "text": [
      "3223.10333705\n"
     ]
    }
   ],
   "source": [
    "train1_10 = pd.merge(train1,train_kdaSum_gamesSum10, on = ['user_id'], how = 'left')\n",
    "train1_10['kda_ratio_k10'] = train1_10['num_games']*train1_10['kda_ratio_kdaSum_gamesSum10']\n",
    "\n",
    "print(rmse(np.array(train1['kda_ratio']), np.array(train1_10['kda_ratio_k10'])))"
   ]
  },
  {
   "cell_type": "code",
   "execution_count": 312,
   "metadata": {},
   "outputs": [
    {
     "name": "stdout",
     "output_type": "stream",
     "text": [
      "1154.01151146\n"
     ]
    }
   ],
   "source": [
    "print(rmse(np.array(train1['kda_ratio']), np.array(train1_10['kda_ratio_k10'])))"
   ]
  },
  {
   "cell_type": "code",
   "execution_count": null,
   "metadata": {
    "collapsed": true
   },
   "outputs": [],
   "source": []
  },
  {
   "cell_type": "code",
   "execution_count": null,
   "metadata": {
    "collapsed": true
   },
   "outputs": [],
   "source": []
  },
  {
   "cell_type": "code",
   "execution_count": null,
   "metadata": {
    "collapsed": true
   },
   "outputs": [],
   "source": []
  },
  {
   "cell_type": "markdown",
   "metadata": {},
   "source": [
    "### For Train"
   ]
  },
  {
   "cell_type": "code",
   "execution_count": 391,
   "metadata": {},
   "outputs": [
    {
     "data": {
      "text/html": [
       "<div>\n",
       "<style>\n",
       "    .dataframe thead tr:only-child th {\n",
       "        text-align: right;\n",
       "    }\n",
       "\n",
       "    .dataframe thead th {\n",
       "        text-align: left;\n",
       "    }\n",
       "\n",
       "    .dataframe tbody tr th {\n",
       "        vertical-align: top;\n",
       "    }\n",
       "</style>\n",
       "<table border=\"1\" class=\"dataframe\">\n",
       "  <thead>\n",
       "    <tr style=\"text-align: right;\">\n",
       "      <th></th>\n",
       "      <th>user_id</th>\n",
       "      <th>hero_id</th>\n",
       "      <th>id</th>\n",
       "      <th>num_games</th>\n",
       "      <th>num_wins</th>\n",
       "      <th>kda_ratio</th>\n",
       "      <th>heroe_order</th>\n",
       "    </tr>\n",
       "  </thead>\n",
       "  <tbody>\n",
       "    <tr>\n",
       "      <th>0</th>\n",
       "      <td>1</td>\n",
       "      <td>74</td>\n",
       "      <td>1_74</td>\n",
       "      <td>304</td>\n",
       "      <td>185</td>\n",
       "      <td>3743.699732</td>\n",
       "      <td>1</td>\n",
       "    </tr>\n",
       "    <tr>\n",
       "      <th>1</th>\n",
       "      <td>1</td>\n",
       "      <td>65</td>\n",
       "      <td>1_65</td>\n",
       "      <td>255</td>\n",
       "      <td>151</td>\n",
       "      <td>4009.021513</td>\n",
       "      <td>2</td>\n",
       "    </tr>\n",
       "    <tr>\n",
       "      <th>2</th>\n",
       "      <td>1</td>\n",
       "      <td>39</td>\n",
       "      <td>1_39</td>\n",
       "      <td>203</td>\n",
       "      <td>135</td>\n",
       "      <td>5094.621514</td>\n",
       "      <td>3</td>\n",
       "    </tr>\n",
       "    <tr>\n",
       "      <th>3</th>\n",
       "      <td>1</td>\n",
       "      <td>106</td>\n",
       "      <td>1_106</td>\n",
       "      <td>158</td>\n",
       "      <td>106</td>\n",
       "      <td>4619.212963</td>\n",
       "      <td>4</td>\n",
       "    </tr>\n",
       "    <tr>\n",
       "      <th>4</th>\n",
       "      <td>1</td>\n",
       "      <td>2</td>\n",
       "      <td>1_2</td>\n",
       "      <td>157</td>\n",
       "      <td>94</td>\n",
       "      <td>2871.627907</td>\n",
       "      <td>5</td>\n",
       "    </tr>\n",
       "  </tbody>\n",
       "</table>\n",
       "</div>"
      ],
      "text/plain": [
       "   user_id  hero_id     id  num_games  num_wins    kda_ratio  heroe_order\n",
       "0        1       74   1_74        304       185  3743.699732            1\n",
       "1        1       65   1_65        255       151  4009.021513            2\n",
       "2        1       39   1_39        203       135  5094.621514            3\n",
       "3        1      106  1_106        158       106  4619.212963            4\n",
       "4        1        2    1_2        157        94  2871.627907            5"
      ]
     },
     "execution_count": 391,
     "metadata": {},
     "output_type": "execute_result"
    }
   ],
   "source": [
    "train9.head()"
   ]
  },
  {
   "cell_type": "code",
   "execution_count": 432,
   "metadata": {
    "collapsed": true
   },
   "outputs": [],
   "source": [
    "train9_temp = pd.concat([train9,train1],axis=0)"
   ]
  },
  {
   "cell_type": "code",
   "execution_count": 433,
   "metadata": {},
   "outputs": [
    {
     "data": {
      "text/plain": [
       "(20940, 7)"
      ]
     },
     "execution_count": 433,
     "metadata": {},
     "output_type": "execute_result"
    }
   ],
   "source": [
    "train9_temp.shape"
   ]
  },
  {
   "cell_type": "code",
   "execution_count": null,
   "metadata": {
    "collapsed": true
   },
   "outputs": [],
   "source": []
  },
  {
   "cell_type": "code",
   "execution_count": 434,
   "metadata": {
    "scrolled": true
   },
   "outputs": [],
   "source": [
    "train_wmean10 = train9_temp.groupby(['hero_id'])['kda_ratio'].mean().reset_index().rename(columns ={'kda_ratio':'kda_ratio_meanHeroe'})"
   ]
  },
  {
   "cell_type": "code",
   "execution_count": 435,
   "metadata": {},
   "outputs": [
    {
     "data": {
      "text/html": [
       "<div>\n",
       "<style>\n",
       "    .dataframe thead tr:only-child th {\n",
       "        text-align: right;\n",
       "    }\n",
       "\n",
       "    .dataframe thead th {\n",
       "        text-align: left;\n",
       "    }\n",
       "\n",
       "    .dataframe tbody tr th {\n",
       "        vertical-align: top;\n",
       "    }\n",
       "</style>\n",
       "<table border=\"1\" class=\"dataframe\">\n",
       "  <thead>\n",
       "    <tr style=\"text-align: right;\">\n",
       "      <th></th>\n",
       "      <th>id</th>\n",
       "      <th>hero_id</th>\n",
       "      <th>kda_ratio_meanHeroe</th>\n",
       "    </tr>\n",
       "  </thead>\n",
       "  <tbody>\n",
       "    <tr>\n",
       "      <th>0</th>\n",
       "      <td>1_41</td>\n",
       "      <td>41</td>\n",
       "      <td>3884.442998</td>\n",
       "    </tr>\n",
       "    <tr>\n",
       "      <th>1</th>\n",
       "      <td>2_17</td>\n",
       "      <td>17</td>\n",
       "      <td>3951.091205</td>\n",
       "    </tr>\n",
       "    <tr>\n",
       "      <th>2</th>\n",
       "      <td>5_106</td>\n",
       "      <td>106</td>\n",
       "      <td>4679.099300</td>\n",
       "    </tr>\n",
       "    <tr>\n",
       "      <th>3</th>\n",
       "      <td>6_65</td>\n",
       "      <td>65</td>\n",
       "      <td>3764.435114</td>\n",
       "    </tr>\n",
       "    <tr>\n",
       "      <th>4</th>\n",
       "      <td>7_69</td>\n",
       "      <td>69</td>\n",
       "      <td>3101.702250</td>\n",
       "    </tr>\n",
       "  </tbody>\n",
       "</table>\n",
       "</div>"
      ],
      "text/plain": [
       "      id  hero_id  kda_ratio_meanHeroe\n",
       "0   1_41       41          3884.442998\n",
       "1   2_17       17          3951.091205\n",
       "2  5_106      106          4679.099300\n",
       "3   6_65       65          3764.435114\n",
       "4   7_69       69          3101.702250"
      ]
     },
     "execution_count": 435,
     "metadata": {},
     "output_type": "execute_result"
    }
   ],
   "source": [
    "temp = pd.merge(train1[['id','hero_id']],train_wmean10, on = ['hero_id'], how = 'left')\n",
    "temp.head()"
   ]
  },
  {
   "cell_type": "code",
   "execution_count": 436,
   "metadata": {},
   "outputs": [
    {
     "name": "stdout",
     "output_type": "stream",
     "text": [
      "819.171443277\n"
     ]
    }
   ],
   "source": [
    "print(rmse(np.array(train1['kda_ratio']), np.array(temp['kda_ratio_meanHeroe'])))"
   ]
  },
  {
   "cell_type": "code",
   "execution_count": null,
   "metadata": {
    "collapsed": true
   },
   "outputs": [],
   "source": []
  },
  {
   "cell_type": "code",
   "execution_count": null,
   "metadata": {
    "collapsed": true
   },
   "outputs": [],
   "source": []
  },
  {
   "cell_type": "code",
   "execution_count": 396,
   "metadata": {},
   "outputs": [
    {
     "ename": "ValueError",
     "evalue": "operands could not be broadcast together with shapes (115,) (2094,) ",
     "output_type": "error",
     "traceback": [
      "\u001b[1;31m---------------------------------------------------------------------------\u001b[0m",
      "\u001b[1;31mValueError\u001b[0m                                Traceback (most recent call last)",
      "\u001b[1;32m<ipython-input-396-98ac7bfe9209>\u001b[0m in \u001b[0;36m<module>\u001b[1;34m()\u001b[0m\n\u001b[1;32m----> 1\u001b[1;33m \u001b[0mprint\u001b[0m\u001b[1;33m(\u001b[0m\u001b[0mrmse\u001b[0m\u001b[1;33m(\u001b[0m\u001b[0mnp\u001b[0m\u001b[1;33m.\u001b[0m\u001b[0marray\u001b[0m\u001b[1;33m(\u001b[0m\u001b[0mtrain1\u001b[0m\u001b[1;33m[\u001b[0m\u001b[1;34m'kda_ratio'\u001b[0m\u001b[1;33m]\u001b[0m\u001b[1;33m)\u001b[0m\u001b[1;33m,\u001b[0m \u001b[0mnp\u001b[0m\u001b[1;33m.\u001b[0m\u001b[0marray\u001b[0m\u001b[1;33m(\u001b[0m\u001b[0mtrain_wmean10\u001b[0m\u001b[1;33m[\u001b[0m\u001b[1;34m'kda_ratio_wmean10'\u001b[0m\u001b[1;33m]\u001b[0m\u001b[1;33m)\u001b[0m\u001b[1;33m)\u001b[0m\u001b[1;33m)\u001b[0m\u001b[1;33m\u001b[0m\u001b[0m\n\u001b[0m",
      "\u001b[1;32m<ipython-input-371-32317967357d>\u001b[0m in \u001b[0;36mrmse\u001b[1;34m(act, pred)\u001b[0m\n\u001b[0;32m      1\u001b[0m \u001b[1;32mfrom\u001b[0m \u001b[0mscipy\u001b[0m\u001b[1;33m.\u001b[0m\u001b[0mstats\u001b[0m\u001b[1;33m.\u001b[0m\u001b[0mmstats\u001b[0m \u001b[1;32mimport\u001b[0m \u001b[0mmode\u001b[0m\u001b[1;33m,\u001b[0m \u001b[0mgmean\u001b[0m\u001b[1;33m,\u001b[0m \u001b[0mhmean\u001b[0m\u001b[1;33m\u001b[0m\u001b[0m\n\u001b[0;32m      2\u001b[0m \u001b[1;32mdef\u001b[0m \u001b[0mrmse\u001b[0m\u001b[1;33m(\u001b[0m\u001b[0mact\u001b[0m\u001b[1;33m,\u001b[0m \u001b[0mpred\u001b[0m \u001b[1;33m)\u001b[0m\u001b[1;33m:\u001b[0m\u001b[1;33m\u001b[0m\u001b[0m\n\u001b[1;32m----> 3\u001b[1;33m     \u001b[1;32mreturn\u001b[0m \u001b[0mnp\u001b[0m\u001b[1;33m.\u001b[0m\u001b[0msqrt\u001b[0m\u001b[1;33m(\u001b[0m\u001b[0mnp\u001b[0m\u001b[1;33m.\u001b[0m\u001b[0mmean\u001b[0m\u001b[1;33m(\u001b[0m\u001b[0mnp\u001b[0m\u001b[1;33m.\u001b[0m\u001b[0mpower\u001b[0m\u001b[1;33m(\u001b[0m\u001b[0mpred\u001b[0m\u001b[1;33m-\u001b[0m\u001b[0mact\u001b[0m\u001b[1;33m,\u001b[0m \u001b[1;36m2\u001b[0m\u001b[1;33m)\u001b[0m\u001b[1;33m)\u001b[0m\u001b[1;33m)\u001b[0m\u001b[1;33m\u001b[0m\u001b[0m\n\u001b[0m",
      "\u001b[1;31mValueError\u001b[0m: operands could not be broadcast together with shapes (115,) (2094,) "
     ]
    }
   ],
   "source": [
    "print(rmse(np.array(train1['kda_ratio']), np.array(train_wmean10['kda_ratio_wmean10'])))"
   ]
  },
  {
   "cell_type": "code",
   "execution_count": null,
   "metadata": {
    "collapsed": true
   },
   "outputs": [],
   "source": []
  },
  {
   "cell_type": "code",
   "execution_count": null,
   "metadata": {
    "collapsed": true
   },
   "outputs": [],
   "source": []
  },
  {
   "cell_type": "code",
   "execution_count": null,
   "metadata": {
    "collapsed": true
   },
   "outputs": [],
   "source": []
  },
  {
   "cell_type": "code",
   "execution_count": null,
   "metadata": {
    "collapsed": true
   },
   "outputs": [],
   "source": []
  }
 ],
 "metadata": {
  "kernelspec": {
   "display_name": "Python 3",
   "language": "python",
   "name": "python3"
  },
  "language_info": {
   "codemirror_mode": {
    "name": "ipython",
    "version": 3
   },
   "file_extension": ".py",
   "mimetype": "text/x-python",
   "name": "python",
   "nbconvert_exporter": "python",
   "pygments_lexer": "ipython3",
   "version": "3.6.3"
  }
 },
 "nbformat": 4,
 "nbformat_minor": 2
}
